{
 "cells": [
  {
   "cell_type": "code",
   "execution_count": 1,
   "metadata": {},
   "outputs": [],
   "source": [
    "import numpy as np\n",
    "import matplotlib.pyplot as plt\n",
    "\n",
    "# Seed for reproducibility\n",
    "np.random.seed(42)\n",
    "\n",
    "# Number of samples\n",
    "N = 1000\n",
    "\n",
    "# 1. Two identical normal distributions\n",
    "mean1, std1 = 0, 1\n",
    "data1_a = np.random.normal(mean1, std1, N)\n",
    "data1_b = np.random.normal(mean1, std1, N)\n",
    "\n",
    "# 2. Two slightly different normal distributions\n",
    "mean2_a, mean2_b, std2 = 0, 0.5, 1\n",
    "data2_a = np.random.normal(mean2_a, std2, N)\n",
    "data2_b = np.random.normal(mean2_b, std2, N)\n",
    "\n",
    "# 3. Two very different normal distributions\n",
    "mean3_a, mean3_b, std3 = 0, 5, 1\n",
    "data3_a = np.random.normal(mean3_a, std3, N)\n",
    "data3_b = np.random.normal(mean3_b, std3, N)\n",
    "\n",
    "# 4. A normal and a uniform distribution\n",
    "mean4, std4 = 0, 1\n",
    "data4_a = np.random.normal(mean4, std4, N)\n",
    "data4_b = np.random.uniform(-3, 3, N)  # Chose these bounds to make it interesting\n",
    "\n"
   ]
  },
  {
   "cell_type": "code",
   "execution_count": 2,
   "metadata": {},
   "outputs": [],
   "source": [
    "# from pureml_evaluate.drift_evaluator.based_on_dataset.continuous import Continuous"
   ]
  },
  {
   "cell_type": "code",
   "execution_count": 3,
   "metadata": {},
   "outputs": [],
   "source": [
    "# cc = Continuous()"
   ]
  },
  {
   "cell_type": "code",
   "execution_count": 4,
   "metadata": {},
   "outputs": [],
   "source": [
    "# cc.reference = data1_a"
   ]
  },
  {
   "cell_type": "code",
   "execution_count": 5,
   "metadata": {},
   "outputs": [],
   "source": [
    "# cc.production = data1_b"
   ]
  },
  {
   "cell_type": "code",
   "execution_count": 6,
   "metadata": {},
   "outputs": [],
   "source": [
    "# cc.compute()"
   ]
  },
  {
   "cell_type": "code",
   "execution_count": 7,
   "metadata": {},
   "outputs": [],
   "source": [
    "from pureml_evaluate.drift_evaluator.feature_drift import FeatureLabelDrift"
   ]
  },
  {
   "cell_type": "code",
   "execution_count": 8,
   "metadata": {},
   "outputs": [],
   "source": [
    "fd = FeatureLabelDrift()"
   ]
  },
  {
   "cell_type": "code",
   "execution_count": 9,
   "metadata": {},
   "outputs": [],
   "source": [
    "fd.reference = data1_a\n",
    "fd.production = data1_b\n",
    "fd.kwargs = {'dataset_types' : 'continuous'}"
   ]
  },
  {
   "cell_type": "code",
   "execution_count": 10,
   "metadata": {},
   "outputs": [
    {
     "name": "stdout",
     "output_type": "stream",
     "text": [
      "Metrics Were Called\n",
      "{'kolmogorov_smirnov': {'value': {'ks_stat': 0.045, 'p_value': 0.26347172719864703}}, 'wasserstein_distance': {'value': 0.014660278706218702}, 'hellinger_distance': {'value': 0.14371687035258263}, 'l_infinity_distance': {'value': 4.28120393757531}}\n"
     ]
    }
   ],
   "source": [
    "fd.compute()"
   ]
  },
  {
   "cell_type": "code",
   "execution_count": null,
   "metadata": {},
   "outputs": [],
   "source": []
  }
 ],
 "metadata": {
  "kernelspec": {
   "display_name": "testing_drift",
   "language": "python",
   "name": "python3"
  },
  "language_info": {
   "codemirror_mode": {
    "name": "ipython",
    "version": 3
   },
   "file_extension": ".py",
   "mimetype": "text/x-python",
   "name": "python",
   "nbconvert_exporter": "python",
   "pygments_lexer": "ipython3",
   "version": "3.10.12"
  },
  "orig_nbformat": 4
 },
 "nbformat": 4,
 "nbformat_minor": 2
}
