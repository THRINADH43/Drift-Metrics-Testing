{
 "cells": [
  {
   "cell_type": "code",
   "execution_count": 8,
   "metadata": {},
   "outputs": [],
   "source": [
    "import pureml\n",
    "from pureml.decorators import load_data,dataset,model\n",
    "import numpy as np\n",
    "import pandas as pd\n",
    "from sklearn.linear_model import LinearRegression"
   ]
  },
  {
   "cell_type": "code",
   "execution_count": 5,
   "metadata": {},
   "outputs": [
    {
     "data": {
      "text/html": [
       "<pre style=\"white-space:pre;overflow-x:auto;line-height:normal;font-family:Menlo,'DejaVu Sans Mono',consolas,'Courier New',monospace\"><span style=\"color: #008000; text-decoration-color: #008000; font-weight: bold\"> Connected to Dataset</span>\n",
       "</pre>\n"
      ],
      "text/plain": [
       "\u001b[1;32m Connected to Dataset\u001b[0m\n"
      ]
     },
     "metadata": {},
     "output_type": "display_data"
    },
    {
     "data": {
      "text/html": [
       "<pre style=\"white-space:pre;overflow-x:auto;line-height:normal;font-family:Menlo,'DejaVu Sans Mono',consolas,'Courier New',monospace\"><span style=\"color: #008000; text-decoration-color: #008000; font-weight: bold\"> Connected to Branch</span>\n",
       "</pre>\n"
      ],
      "text/plain": [
       "\u001b[1;32m Connected to Branch\u001b[0m\n"
      ]
     },
     "metadata": {},
     "output_type": "display_data"
    },
    {
     "data": {
      "text/html": [
       "<pre style=\"white-space:pre;overflow-x:auto;line-height:normal;font-family:Menlo,'DejaVu Sans Mono',consolas,'Courier New',monospace\">Version:  v1\n",
       "</pre>\n"
      ],
      "text/plain": [
       "Version:  v1\n"
      ]
     },
     "metadata": {},
     "output_type": "display_data"
    },
    {
     "data": {
      "text/html": [
       "<pre style=\"white-space:pre;overflow-x:auto;line-height:normal;font-family:Menlo,'DejaVu Sans Mono',consolas,'Courier New',monospace\">Dataset label:  reference_dataset_monitoring:main:v1\n",
       "</pre>\n"
      ],
      "text/plain": [
       "Dataset label:  reference_dataset_monitoring:main:v1\n"
      ]
     },
     "metadata": {},
     "output_type": "display_data"
    },
    {
     "data": {
      "text/html": [
       "<pre style=\"white-space:pre;overflow-x:auto;line-height:normal;font-family:Menlo,'DejaVu Sans Mono',consolas,'Courier New',monospace\"><span style=\"color: #008000; text-decoration-color: #008000; font-weight: bold\">Dataset and lineage have been registered!</span>\n",
       "</pre>\n"
      ],
      "text/plain": [
       "\u001b[1;32mDataset and lineage have been registered!\u001b[0m\n"
      ]
     },
     "metadata": {},
     "output_type": "display_data"
    },
    {
     "data": {
      "text/plain": [
       "{'x_train':      Feature1  Feature2   Feature3\n",
       " 521  3.808909  4.960212   2.425072\n",
       " 737  8.165994  3.154058   4.986842\n",
       " 740  4.626798  6.105168  14.166729\n",
       " 660  3.560967  3.314406   7.707817\n",
       " 411  9.500620 -6.670127   4.677958\n",
       " ..        ...       ...        ...\n",
       " 619  7.482597 -3.284471   0.819516\n",
       " 855  1.906877 -2.018242  13.811499\n",
       " 803  6.067150  0.308399   3.796523\n",
       " 645  8.905273 -9.831783   9.915214\n",
       " 846  0.853497 -2.236609  13.990658\n",
       " \n",
       " [800 rows x 3 columns],\n",
       " 'y_train': 521    30.198019\n",
       " 737    48.985655\n",
       " 740    85.498960\n",
       " 660    49.952725\n",
       " 411    31.292281\n",
       "          ...    \n",
       " 619    20.510589\n",
       " 855    53.507118\n",
       " 803    33.777345\n",
       " 645    47.281547\n",
       " 846    55.771135\n",
       " Name: Target, Length: 800, dtype: float64,\n",
       " 'x_test':      Feature1  Feature2   Feature3\n",
       " 1    9.507143 -6.676722   4.970205\n",
       " 4    1.560186  2.798952   9.161701\n",
       " 13   2.123391 -6.383743   5.082910\n",
       " 14   1.818250 -5.405283  12.038785\n",
       " 20   6.118529  4.691419   1.306392\n",
       " ..        ...       ...        ...\n",
       " 976  5.950779 -0.687243   6.289075\n",
       " 980  3.342439  8.199823   7.113825\n",
       " 982  1.065983  0.377168   9.426397\n",
       " 992  2.721451 -3.113247   5.004426\n",
       " 996  9.173136 -3.058845  12.824610\n",
       " \n",
       " [200 rows x 3 columns],\n",
       " 'y_test': 1      33.676901\n",
       " 4      49.470561\n",
       " 13     10.365327\n",
       " 14     40.926288\n",
       " 20     34.918557\n",
       "          ...    \n",
       " 976    42.321377\n",
       " 980    53.989817\n",
       " 982    42.620229\n",
       " 992    27.716667\n",
       " 996    70.613073\n",
       " Name: Target, Length: 200, dtype: float64,\n",
       " 'dataset':      Feature1  Feature2   Feature3     Target\n",
       " 0    3.745401  0.888505  14.572990  75.017489\n",
       " 1    9.507143 -6.676722   4.970205  33.676901\n",
       " 2    7.319939  1.900989   7.230616  54.555790\n",
       " 3    5.986585  3.052929   2.941466  36.005543\n",
       " 4    1.560186  2.798952   9.161701  49.470561\n",
       " ..        ...       ...        ...        ...\n",
       " 995  0.915821 -6.600113   2.751633  -3.326754\n",
       " 996  9.173136 -3.058845  12.824610  70.613073\n",
       " 997  1.368186 -0.185184  13.238398  53.933403\n",
       " 998  9.502374 -2.146511   6.994646  55.911436\n",
       " 999  4.460058 -3.462105   1.135496   9.809258\n",
       " \n",
       " [1000 rows x 4 columns]}"
      ]
     },
     "execution_count": 5,
     "metadata": {},
     "output_type": "execute_result"
    }
   ],
   "source": [
    "@dataset('reference_dataset_monitoring:main',upload= True)\n",
    "def reference_dataset_monitoring():\n",
    "\n",
    "    # Set seed for reproducibility\n",
    "    np.random.seed(42)\n",
    "\n",
    "    # Generate dataset\n",
    "    n_samples = 1000\n",
    "    X1 = np.random.rand(n_samples) * 10  # Random values between 0 and 10\n",
    "    X2 = np.random.randn(n_samples) * 5  # Values from a normal distribution with mean 0 and standard deviation 5\n",
    "    X3 = np.random.rand(n_samples) * 15  # Random values between 0 and 15\n",
    "\n",
    "    # Linear relationship with noise\n",
    "    y = 3*X1 + 2*X2 + 4*X3 + np.random.randn(n_samples) * 3\n",
    "\n",
    "    data = pd.DataFrame({'Feature1': X1, 'Feature2': X2, 'Feature3': X3, 'Target': y})\n",
    "\n",
    "    # Split data into training and testing sets\n",
    "    train_data = data.sample(frac=0.8, random_state=42)\n",
    "    test_data = data.drop(train_data.index)\n",
    "\n",
    "    #train_data.head()\n",
    "\n",
    "    # Splitting the original dataset into x_train, x_test, y_train, and y_test\n",
    "\n",
    "    x_train = train_data[['Feature1', 'Feature2', 'Feature3']]\n",
    "    y_train = train_data['Target']\n",
    "\n",
    "    x_test = test_data[['Feature1', 'Feature2', 'Feature3']]\n",
    "    y_test = test_data['Target']\n",
    "\n",
    "    return {'x_train': x_train, 'y_train': y_train, 'x_test': x_test, 'y_test': y_test, 'dataset' : data} \n",
    "\n",
    "reference_dataset_monitoring()   \n"
   ]
  },
  {
   "cell_type": "code",
   "execution_count": 7,
   "metadata": {},
   "outputs": [
    {
     "data": {
      "text/html": [
       "<pre style=\"white-space:pre;overflow-x:auto;line-height:normal;font-family:Menlo,'DejaVu Sans Mono',consolas,'Courier New',monospace\"><span style=\"color: #008000; text-decoration-color: #008000; font-weight: bold\"> Connected to Dataset</span>\n",
       "</pre>\n"
      ],
      "text/plain": [
       "\u001b[1;32m Connected to Dataset\u001b[0m\n"
      ]
     },
     "metadata": {},
     "output_type": "display_data"
    },
    {
     "data": {
      "text/html": [
       "<pre style=\"white-space:pre;overflow-x:auto;line-height:normal;font-family:Menlo,'DejaVu Sans Mono',consolas,'Courier New',monospace\"><span style=\"color: #008000; text-decoration-color: #008000; font-weight: bold\"> Connected to Branch</span>\n",
       "</pre>\n"
      ],
      "text/plain": [
       "\u001b[1;32m Connected to Branch\u001b[0m\n"
      ]
     },
     "metadata": {},
     "output_type": "display_data"
    },
    {
     "data": {
      "text/html": [
       "<pre style=\"white-space:pre;overflow-x:auto;line-height:normal;font-family:Menlo,'DejaVu Sans Mono',consolas,'Courier New',monospace\">Version:  v1\n",
       "</pre>\n"
      ],
      "text/plain": [
       "Version:  v1\n"
      ]
     },
     "metadata": {},
     "output_type": "display_data"
    },
    {
     "data": {
      "text/html": [
       "<pre style=\"white-space:pre;overflow-x:auto;line-height:normal;font-family:Menlo,'DejaVu Sans Mono',consolas,'Courier New',monospace\">Dataset label:  production_dataset_monitoring:main:v1\n",
       "</pre>\n"
      ],
      "text/plain": [
       "Dataset label:  production_dataset_monitoring:main:v1\n"
      ]
     },
     "metadata": {},
     "output_type": "display_data"
    },
    {
     "data": {
      "text/html": [
       "<pre style=\"white-space:pre;overflow-x:auto;line-height:normal;font-family:Menlo,'DejaVu Sans Mono',consolas,'Courier New',monospace\"><span style=\"color: #008000; text-decoration-color: #008000; font-weight: bold\">Dataset and lineage have been registered!</span>\n",
       "</pre>\n"
      ],
      "text/plain": [
       "\u001b[1;32mDataset and lineage have been registered!\u001b[0m\n"
      ]
     },
     "metadata": {},
     "output_type": "display_data"
    },
    {
     "data": {
      "text/plain": [
       "{'x_train':       Feature1   Feature2   Feature3\n",
       " 361   9.704378  -3.890474   4.060119\n",
       " 73    7.099851   7.222061   6.157572\n",
       " 374   7.598905   0.219144   0.975012\n",
       " 155   8.016866  -5.495224   9.065711\n",
       " 104  11.344108  -3.267314  12.020573\n",
       " ..         ...        ...        ...\n",
       " 434  10.533957  -1.494100   3.869093\n",
       " 430   8.685467 -13.563063   7.723913\n",
       " 337  10.902207   1.153054   0.269368\n",
       " 236  11.298705  -5.570407   3.614944\n",
       " 207   9.926625   0.003778   5.774381\n",
       " \n",
       " [400 rows x 3 columns],\n",
       " 'y_train': 361    39.768905\n",
       " 73     63.965468\n",
       " 374    28.066470\n",
       " 155    51.408490\n",
       " 104    76.618339\n",
       "          ...    \n",
       " 434    44.504277\n",
       " 430    27.487800\n",
       " 337    35.916349\n",
       " 236    35.315258\n",
       " 207    55.580488\n",
       " Name: Target, Length: 400, dtype: float64,\n",
       " 'x_test':       Feature1   Feature2   Feature3\n",
       " 1    11.325040  -1.594232   0.948940\n",
       " 13    6.050011  -1.779870   7.026919\n",
       " 20    5.666377  -0.690412  14.739786\n",
       " 21    8.191214   2.955681   9.555713\n",
       " 34    4.267586   2.550622   6.580075\n",
       " ..         ...        ...        ...\n",
       " 486   4.747050  -2.848495   6.751429\n",
       " 488   2.405857  13.189409   9.610653\n",
       " 492   9.892907   6.948821   9.810346\n",
       " 496   5.032810   7.082059   8.476084\n",
       " 499  11.893495   1.541460  11.784999\n",
       " \n",
       " [100 rows x 3 columns],\n",
       " 'y_test': 1      35.595714\n",
       " 13     39.925778\n",
       " 20     75.684502\n",
       " 21     69.080713\n",
       " 34     42.676588\n",
       "          ...    \n",
       " 486    33.965895\n",
       " 488    62.375953\n",
       " 492    83.746926\n",
       " 496    67.266054\n",
       " 499    88.126624\n",
       " Name: Target, Length: 100, dtype: float64,\n",
       " 'dataset':       Feature1  Feature2   Feature3     Target\n",
       " 0     4.355659  0.536040  14.253168  68.903482\n",
       " 1    11.325040 -1.594232   0.948940  35.595714\n",
       " 2    10.595030  3.132173   9.045208  72.595006\n",
       " 3     9.097851 -0.399542   0.856991  35.372697\n",
       " 4     6.822252  1.025377  13.406613  72.336088\n",
       " ..         ...       ...        ...        ...\n",
       " 495   7.265949 -1.656761  10.336636  51.875386\n",
       " 496   5.032810  7.082059   8.476084  67.266054\n",
       " 497   5.625832  3.866200  12.880081  73.917009\n",
       " 498   2.664054 -0.789188   1.762138  15.522043\n",
       " 499  11.893495  1.541460  11.784999  88.126624\n",
       " \n",
       " [500 rows x 4 columns]}"
      ]
     },
     "execution_count": 7,
     "metadata": {},
     "output_type": "execute_result"
    }
   ],
   "source": [
    "@dataset(label='production_dataset_monitoring:main',upload  = True)\n",
    "def production_dataset_monitoring():\n",
    "    # Generate production data\n",
    "    n_prod_samples = 500\n",
    "    X1_prod = np.random.rand(n_prod_samples) * 10 + 2  # Introducing a shift in mean by adding 2\n",
    "    X2_prod = np.random.randn(n_prod_samples) * 5\n",
    "    X3_prod = np.random.rand(n_prod_samples) * 15\n",
    "\n",
    "    # Use the same relationship to generate target values (this assumes that the true relationship hasn't changed)\n",
    "    y_prod = 3*X1_prod + 2*X2_prod + 4*X3_prod + np.random.randn(n_prod_samples) * 3\n",
    "\n",
    "    production_data = pd.DataFrame({'Feature1': X1_prod, 'Feature2': X2_prod, 'Feature3': X3_prod, 'Target': y_prod})\n",
    "\n",
    "    # Splitting the original dataset into x_prod and y_prod\n",
    "    train_data = production_data.sample(frac=0.8, random_state=42)\n",
    "    test_data = production_data.drop(train_data.index)\n",
    "\n",
    "    x_train = train_data[['Feature1', 'Feature2', 'Feature3']]\n",
    "    y_train = train_data['Target']\n",
    "\n",
    "    x_test = test_data[['Feature1', 'Feature2', 'Feature3']]\n",
    "    y_test = test_data['Target']\n",
    "\n",
    "    return {'x_train': x_train, 'y_train': y_train, 'x_test': x_test, 'y_test': y_test, 'dataset' : production_data}\n",
    "\n",
    "production_dataset_monitoring()\n",
    "    "
   ]
  },
  {
   "cell_type": "code",
   "execution_count": 10,
   "metadata": {},
   "outputs": [
    {
     "data": {
      "text/html": [
       "<pre style=\"white-space:pre;overflow-x:auto;line-height:normal;font-family:Menlo,'DejaVu Sans Mono',consolas,'Courier New',monospace\">branch_exists <span style=\"color: #00ff00; text-decoration-color: #00ff00; font-style: italic\">True</span>\n",
       "</pre>\n"
      ],
      "text/plain": [
       "branch_exists \u001b[3;92mTrue\u001b[0m\n"
      ]
     },
     "metadata": {},
     "output_type": "display_data"
    },
    {
     "data": {
      "text/html": [
       "<pre style=\"white-space:pre;overflow-x:auto;line-height:normal;font-family:Menlo,'DejaVu Sans Mono',consolas,'Courier New',monospace\"><span style=\"color: #008000; text-decoration-color: #008000; font-weight: bold\">Model has been registered!</span>\n",
       "</pre>\n"
      ],
      "text/plain": [
       "\u001b[1;32mModel has been registered!\u001b[0m\n"
      ]
     },
     "metadata": {},
     "output_type": "display_data"
    },
    {
     "data": {
      "text/html": [
       "<pre style=\"white-space:pre;overflow-x:auto;line-height:normal;font-family:Menlo,'DejaVu Sans Mono',consolas,'Courier New',monospace\">Model Version:  v1\n",
       "</pre>\n"
      ],
      "text/plain": [
       "Model Version:  v1\n"
      ]
     },
     "metadata": {},
     "output_type": "display_data"
    },
    {
     "data": {
      "text/html": [
       "<pre style=\"white-space:pre;overflow-x:auto;line-height:normal;font-family:Menlo,'DejaVu Sans Mono',consolas,'Courier New',monospace\">Model label:  model_monitoring:main:v1\n",
       "</pre>\n"
      ],
      "text/plain": [
       "Model label:  model_monitoring:main:v1\n"
      ]
     },
     "metadata": {},
     "output_type": "display_data"
    },
    {
     "name": "stdout",
     "output_type": "stream",
     "text": [
      "No metrics are found in config\n",
      "No params are found in config\n",
      "No figures are found in config\n"
     ]
    },
    {
     "data": {
      "text/html": [
       "<style>#sk-container-id-2 {color: black;}#sk-container-id-2 pre{padding: 0;}#sk-container-id-2 div.sk-toggleable {background-color: white;}#sk-container-id-2 label.sk-toggleable__label {cursor: pointer;display: block;width: 100%;margin-bottom: 0;padding: 0.3em;box-sizing: border-box;text-align: center;}#sk-container-id-2 label.sk-toggleable__label-arrow:before {content: \"▸\";float: left;margin-right: 0.25em;color: #696969;}#sk-container-id-2 label.sk-toggleable__label-arrow:hover:before {color: black;}#sk-container-id-2 div.sk-estimator:hover label.sk-toggleable__label-arrow:before {color: black;}#sk-container-id-2 div.sk-toggleable__content {max-height: 0;max-width: 0;overflow: hidden;text-align: left;background-color: #f0f8ff;}#sk-container-id-2 div.sk-toggleable__content pre {margin: 0.2em;color: black;border-radius: 0.25em;background-color: #f0f8ff;}#sk-container-id-2 input.sk-toggleable__control:checked~div.sk-toggleable__content {max-height: 200px;max-width: 100%;overflow: auto;}#sk-container-id-2 input.sk-toggleable__control:checked~label.sk-toggleable__label-arrow:before {content: \"▾\";}#sk-container-id-2 div.sk-estimator input.sk-toggleable__control:checked~label.sk-toggleable__label {background-color: #d4ebff;}#sk-container-id-2 div.sk-label input.sk-toggleable__control:checked~label.sk-toggleable__label {background-color: #d4ebff;}#sk-container-id-2 input.sk-hidden--visually {border: 0;clip: rect(1px 1px 1px 1px);clip: rect(1px, 1px, 1px, 1px);height: 1px;margin: -1px;overflow: hidden;padding: 0;position: absolute;width: 1px;}#sk-container-id-2 div.sk-estimator {font-family: monospace;background-color: #f0f8ff;border: 1px dotted black;border-radius: 0.25em;box-sizing: border-box;margin-bottom: 0.5em;}#sk-container-id-2 div.sk-estimator:hover {background-color: #d4ebff;}#sk-container-id-2 div.sk-parallel-item::after {content: \"\";width: 100%;border-bottom: 1px solid gray;flex-grow: 1;}#sk-container-id-2 div.sk-label:hover label.sk-toggleable__label {background-color: #d4ebff;}#sk-container-id-2 div.sk-serial::before {content: \"\";position: absolute;border-left: 1px solid gray;box-sizing: border-box;top: 0;bottom: 0;left: 50%;z-index: 0;}#sk-container-id-2 div.sk-serial {display: flex;flex-direction: column;align-items: center;background-color: white;padding-right: 0.2em;padding-left: 0.2em;position: relative;}#sk-container-id-2 div.sk-item {position: relative;z-index: 1;}#sk-container-id-2 div.sk-parallel {display: flex;align-items: stretch;justify-content: center;background-color: white;position: relative;}#sk-container-id-2 div.sk-item::before, #sk-container-id-2 div.sk-parallel-item::before {content: \"\";position: absolute;border-left: 1px solid gray;box-sizing: border-box;top: 0;bottom: 0;left: 50%;z-index: -1;}#sk-container-id-2 div.sk-parallel-item {display: flex;flex-direction: column;z-index: 1;position: relative;background-color: white;}#sk-container-id-2 div.sk-parallel-item:first-child::after {align-self: flex-end;width: 50%;}#sk-container-id-2 div.sk-parallel-item:last-child::after {align-self: flex-start;width: 50%;}#sk-container-id-2 div.sk-parallel-item:only-child::after {width: 0;}#sk-container-id-2 div.sk-dashed-wrapped {border: 1px dashed gray;margin: 0 0.4em 0.5em 0.4em;box-sizing: border-box;padding-bottom: 0.4em;background-color: white;}#sk-container-id-2 div.sk-label label {font-family: monospace;font-weight: bold;display: inline-block;line-height: 1.2em;}#sk-container-id-2 div.sk-label-container {text-align: center;}#sk-container-id-2 div.sk-container {/* jupyter's `normalize.less` sets `[hidden] { display: none; }` but bootstrap.min.css set `[hidden] { display: none !important; }` so we also need the `!important` here to be able to override the default hidden behavior on the sphinx rendered scikit-learn.org. See: https://github.com/scikit-learn/scikit-learn/issues/21755 */display: inline-block !important;position: relative;}#sk-container-id-2 div.sk-text-repr-fallback {display: none;}</style><div id=\"sk-container-id-2\" class=\"sk-top-container\"><div class=\"sk-text-repr-fallback\"><pre>LinearRegression()</pre><b>In a Jupyter environment, please rerun this cell to show the HTML representation or trust the notebook. <br />On GitHub, the HTML representation is unable to render, please try loading this page with nbviewer.org.</b></div><div class=\"sk-container\" hidden><div class=\"sk-item\"><div class=\"sk-estimator sk-toggleable\"><input class=\"sk-toggleable__control sk-hidden--visually\" id=\"sk-estimator-id-2\" type=\"checkbox\" checked><label for=\"sk-estimator-id-2\" class=\"sk-toggleable__label sk-toggleable__label-arrow\">LinearRegression</label><div class=\"sk-toggleable__content\"><pre>LinearRegression()</pre></div></div></div></div></div>"
      ],
      "text/plain": [
       "LinearRegression()"
      ]
     },
     "execution_count": 10,
     "metadata": {},
     "output_type": "execute_result"
    }
   ],
   "source": [
    "@model(label= 'model_monitoring:main')\n",
    "def create_model():\n",
    "    data = pureml.dataset.fetch('reference_dataset_monitoring:main:v1')\n",
    "    x_train = data['x_train']\n",
    "    y_train = data['y_train']\n",
    "    model_ref = LinearRegression()\n",
    "    model_ref.fit(x_train, y_train)\n",
    "    return model_ref\n",
    "\n",
    "create_model()\n"
   ]
  },
  {
   "cell_type": "code",
   "execution_count": 11,
   "metadata": {},
   "outputs": [
    {
     "data": {
      "text/html": [
       "<pre style=\"white-space:pre;overflow-x:auto;line-height:normal;font-family:Menlo,'DejaVu Sans Mono',consolas,'Courier New',monospace\"><span style=\"color: #008000; text-decoration-color: #008000; font-weight: bold\">Predict Function has been registered!</span>\n",
       "</pre>\n"
      ],
      "text/plain": [
       "\u001b[1;32mPredict Function has been registered!\u001b[0m\n"
      ]
     },
     "metadata": {},
     "output_type": "display_data"
    },
    {
     "data": {
      "text/html": [
       "<pre style=\"white-space:pre;overflow-x:auto;line-height:normal;font-family:Menlo,'DejaVu Sans Mono',consolas,'Courier New',monospace\"><span style=\"font-weight: bold\">{</span><span style=\"color: #008000; text-decoration-color: #008000\">\"status\"</span>:<span style=\"color: #008080; text-decoration-color: #008080; font-weight: bold\">200</span>,<span style=\"color: #008000; text-decoration-color: #008000\">\"data\"</span>:<span style=\"font-weight: bold\">[{</span><span style=\"color: #008000; text-decoration-color: #008000\">\"key\"</span>:<span style=\"color: #008000; text-decoration-color: #008000\">\"predict\"</span>,<span style=\"color: #008000; text-decoration-color: #008000\">\"data\"</span>:<span style=\"color: #008000; text-decoration-color: #008000\">\"https://pub-cc8d623e43954c8fa75380adfd3bb762.r2.dev/model-registry/b</span>\n",
       "<span style=\"color: #008000; text-decoration-color: #008000\">c0b992f-33f3-4b9a-8836-c231bd289924/models/43c460d3-aac3-4776-a0bd-284d27393e1f/00370e5d-52b4-4f01-9735-e6728cab0a6</span>\n",
       "<span style=\"color: #008000; text-decoration-color: #008000\">f/logs/predict_OqIiQuh9NN.txt\"</span>,<span style=\"color: #008000; text-decoration-color: #008000\">\"model_version\"</span>:<span style=\"font-weight: bold\">{</span><span style=\"color: #008000; text-decoration-color: #008000\">\"uuid\"</span>:<span style=\"color: #008000; text-decoration-color: #008000\">\"175e6e69-457b-4dc6-b95f-66e28c442f24\"</span>,<span style=\"color: #008000; text-decoration-color: #008000\">\"version\"</span>:<span style=\"color: #008000; text-decoration-color: #008000\">\"v1\"</span><span style=\"font-weight: bold\">}</span>,<span style=\"color: #008000; text-decoration-color: #008000\">\"data</span>\n",
       "<span style=\"color: #008000; text-decoration-color: #008000\">set_version\"</span>:<span style=\"font-weight: bold\">{</span><span style=\"color: #008000; text-decoration-color: #008000\">\"uuid\"</span>:<span style=\"color: #008000; text-decoration-color: #008000\">\"00000000-0000-0000-0000-000000000000\"</span>,<span style=\"color: #008000; text-decoration-color: #008000\">\"version\"</span>:<span style=\"color: #008000; text-decoration-color: #008000\">\"\"</span><span style=\"font-weight: bold\">}}]</span>,<span style=\"color: #008000; text-decoration-color: #008000\">\"message\"</span>:<span style=\"color: #008000; text-decoration-color: #008000\">\"Logs created\"</span><span style=\"font-weight: bold\">}</span>\n",
       "</pre>\n"
      ],
      "text/plain": [
       "\u001b[1m{\u001b[0m\u001b[32m\"status\"\u001b[0m:\u001b[1;36m200\u001b[0m,\u001b[32m\"data\"\u001b[0m:\u001b[1m[\u001b[0m\u001b[1m{\u001b[0m\u001b[32m\"key\"\u001b[0m:\u001b[32m\"predict\"\u001b[0m,\u001b[32m\"data\"\u001b[0m:\u001b[32m\"https://pub-cc8d623e43954c8fa75380adfd3bb762.r2.dev/model-registry/b\u001b[0m\n",
       "\u001b[32mc0b992f-33f3-4b9a-8836-c231bd289924/models/43c460d3-aac3-4776-a0bd-284d27393e1f/00370e5d-52b4-4f01-9735-e6728cab0a6\u001b[0m\n",
       "\u001b[32mf/logs/predict_OqIiQuh9NN.txt\"\u001b[0m,\u001b[32m\"model_version\"\u001b[0m:\u001b[1m{\u001b[0m\u001b[32m\"uuid\"\u001b[0m:\u001b[32m\"175e6e69-457b-4dc6-b95f-66e28c442f24\"\u001b[0m,\u001b[32m\"version\"\u001b[0m:\u001b[32m\"v1\"\u001b[0m\u001b[1m}\u001b[0m,\u001b[32m\"data\u001b[0m\n",
       "\u001b[32mset_version\"\u001b[0m:\u001b[1m{\u001b[0m\u001b[32m\"uuid\"\u001b[0m:\u001b[32m\"00000000-0000-0000-0000-000000000000\"\u001b[0m,\u001b[32m\"version\"\u001b[0m:\u001b[32m\"\"\u001b[0m\u001b[1m}\u001b[0m\u001b[1m}\u001b[0m\u001b[1m]\u001b[0m,\u001b[32m\"message\"\u001b[0m:\u001b[32m\"Logs created\"\u001b[0m\u001b[1m}\u001b[0m\n"
      ]
     },
     "metadata": {},
     "output_type": "display_data"
    }
   ],
   "source": [
    "pureml.predict.add(label='model_monitoring:main:v1',paths= {'predict' : 'predict.py'})"
   ]
  },
  {
   "cell_type": "code",
   "execution_count": 1,
   "metadata": {},
   "outputs": [
    {
     "data": {
      "text/html": [
       "<pre style=\"white-space:pre;overflow-x:auto;line-height:normal;font-family:Menlo,'DejaVu Sans Mono',consolas,'Courier New',monospace\"><span style=\"color: #008000; text-decoration-color: #008000; font-weight: bold\"> Succesfully fetched the dataset</span>\n",
       "</pre>\n"
      ],
      "text/plain": [
       "\u001b[1;32m Succesfully fetched the dataset\u001b[0m\n"
      ]
     },
     "metadata": {},
     "output_type": "display_data"
    },
    {
     "data": {
      "text/html": [
       "<pre style=\"white-space:pre;overflow-x:auto;line-height:normal;font-family:Menlo,'DejaVu Sans Mono',consolas,'Courier New',monospace\"><span style=\"color: #008000; text-decoration-color: #008000; font-weight: bold\"> Succesfully fetched the predictor</span>\n",
       "</pre>\n"
      ],
      "text/plain": [
       "\u001b[1;32m Succesfully fetched the predictor\u001b[0m\n"
      ]
     },
     "metadata": {},
     "output_type": "display_data"
    },
    {
     "data": {
      "text/html": [
       "<pre style=\"white-space:pre;overflow-x:auto;line-height:normal;font-family:Menlo,'DejaVu Sans Mono',consolas,'Courier New',monospace\"><span style=\"color: #008000; text-decoration-color: #008000; font-weight: bold\"> Succesfully fetched the model</span>\n",
       "</pre>\n"
      ],
      "text/plain": [
       "\u001b[1;32m Succesfully fetched the model\u001b[0m\n"
      ]
     },
     "metadata": {},
     "output_type": "display_data"
    },
    {
     "name": "stdout",
     "output_type": "stream",
     "text": [
      "Unable to compute name='mean_squared_log_error' input_type='int' output_type=None kwargs=None\n",
      "The 'multioutput' parameter of mean_squared_log_error must be a str among {'uniform_average', 'raw_values'} or an array-like. Got None instead.\n",
      "Unable to compute name='mean_poisson_deviance' input_type='int' output_type=None kwargs=None\n",
      "Mean Tweedie deviance error with power=1 can only be used on non-negative y and strictly positive y_pred.\n",
      "Unable to compute name='mean_gamma_deviance' input_type='int' output_type=None kwargs=None\n",
      "Mean Tweedie deviance error with power=2 can only be used on strictly positive y and y_pred.\n",
      "Unable to compute name='mean_absolute_percentage_error' input_type='int' output_type=None kwargs=None\n",
      "The 'multioutput' parameter of mean_absolute_percentage_error must be a str among {'uniform_average', 'raw_values'} or an array-like. Got None instead.\n",
      "Unable to compute name='mean_squared_log_error' input_type='int' output_type=None kwargs=None\n",
      "The 'multioutput' parameter of mean_squared_log_error must be a str among {'uniform_average', 'raw_values'} or an array-like. Got None instead.\n",
      "Unable to compute name='mean_poisson_deviance' input_type='int' output_type=None kwargs=None\n",
      "Mean Tweedie deviance error with power=1 can only be used on non-negative y and strictly positive y_pred.\n",
      "Unable to compute name='mean_gamma_deviance' input_type='int' output_type=None kwargs=None\n",
      "Mean Tweedie deviance error with power=2 can only be used on strictly positive y and y_pred.\n",
      "Unable to compute name='mean_absolute_percentage_error' input_type='int' output_type=None kwargs=None\n",
      "The 'multioutput' parameter of mean_absolute_percentage_error must be a str among {'uniform_average', 'raw_values'} or an array-like. Got None instead.\n",
      "Unable to compute name='kolmogorov_smirnov' input_type='dataframe' output_type='dataframe' kwargs=None\n",
      "Exception: object too deep for desired array\n",
      "From L Infinity Distance: (1000, 4)\n",
      "From L Infinity Distance: <class 'pandas.core.frame.DataFrame'>\n",
      "Unable to compute name='l_infinity_distance' input_type='dataframe' output_type='dataframe' kwargs=None\n",
      "Exception: The lengths of the reference and production data do not match.\n"
     ]
    },
    {
     "data": {
      "text/html": [
       "<pre style=\"white-space:pre;overflow-x:auto;line-height:normal;font-family:Menlo,'DejaVu Sans Mono',consolas,'Courier New',monospace\"><span style=\"font-weight: bold\">{</span>\n",
       "    <span style=\"color: #008000; text-decoration-color: #008000\">'category'</span>: <span style=\"color: #008000; text-decoration-color: #008000\">'performance'</span>,\n",
       "    <span style=\"color: #008000; text-decoration-color: #008000\">'description'</span>: <span style=\"color: #008000; text-decoration-color: #008000\">'This test checks the Mean Absolute Error (MAE) metric to see both if its performance on the </span>\n",
       "<span style=\"color: #008000; text-decoration-color: #008000\">evaluation set alone is satisfactory, as well as if performance in terms of Mean Absolute Error (MAE) has degraded </span>\n",
       "<span style=\"color: #008000; text-decoration-color: #008000\">from the reference to evaluation set. The key detail displays whether the given performance metric has degraded </span>\n",
       "<span style=\"color: #008000; text-decoration-color: #008000\">beyond a defined threshold.'</span>,\n",
       "    <span style=\"color: #008000; text-decoration-color: #008000\">'matters'</span>: <span style=\"color: #008000; text-decoration-color: #008000\">'During production, factors like distribution shift or a change in &lt;span&gt;p(y|x)&lt;/span&gt; may cause </span>\n",
       "<span style=\"color: #008000; text-decoration-color: #008000\">model performance to decrease significantly.'</span>,\n",
       "    <span style=\"color: #008000; text-decoration-color: #008000\">'metric'</span>: <span style=\"color: #008000; text-decoration-color: #008000\">'Mean Absolute Error'</span>,\n",
       "    <span style=\"color: #008000; text-decoration-color: #008000\">'severity'</span>: <span style=\"color: #008000; text-decoration-color: #008000\">'low'</span>,\n",
       "    <span style=\"color: #008000; text-decoration-color: #008000\">'summary'</span>: <span style=\"color: #008000; text-decoration-color: #008000\">'mean_absolute_error has a value of 2.5 with low as Severity Index against the 0.6 as threshold '</span>,\n",
       "    <span style=\"color: #008000; text-decoration-color: #008000\">'threshold'</span>: <span style=\"color: #008000; text-decoration-color: #008000\">'0.6'</span>,\n",
       "    <span style=\"color: #008000; text-decoration-color: #008000\">'timestamp'</span>: <span style=\"color: #008000; text-decoration-color: #008000\">'1694421397'</span>,\n",
       "    <span style=\"color: #008000; text-decoration-color: #008000\">'value'</span>: <span style=\"color: #008000; text-decoration-color: #008000\">'2.50'</span>\n",
       "<span style=\"font-weight: bold\">}</span>\n",
       "</pre>\n"
      ],
      "text/plain": [
       "\u001b[1m{\u001b[0m\n",
       "    \u001b[32m'category'\u001b[0m: \u001b[32m'performance'\u001b[0m,\n",
       "    \u001b[32m'description'\u001b[0m: \u001b[32m'This test checks the Mean Absolute Error \u001b[0m\u001b[32m(\u001b[0m\u001b[32mMAE\u001b[0m\u001b[32m)\u001b[0m\u001b[32m metric to see both if its performance on the \u001b[0m\n",
       "\u001b[32mevaluation set alone is satisfactory, as well as if performance in terms of Mean Absolute Error \u001b[0m\u001b[32m(\u001b[0m\u001b[32mMAE\u001b[0m\u001b[32m)\u001b[0m\u001b[32m has degraded \u001b[0m\n",
       "\u001b[32mfrom the reference to evaluation set. The key detail displays whether the given performance metric has degraded \u001b[0m\n",
       "\u001b[32mbeyond a defined threshold.'\u001b[0m,\n",
       "    \u001b[32m'matters'\u001b[0m: \u001b[32m'During production, factors like distribution shift or a change in \u001b[0m\u001b[32m<\u001b[0m\u001b[32mspan\u001b[0m\u001b[32m>\u001b[0m\u001b[32mp\u001b[0m\u001b[32m(\u001b[0m\u001b[32my|x\u001b[0m\u001b[32m)\u001b[0m\u001b[32m<\u001b[0m\u001b[32m/span\u001b[0m\u001b[32m>\u001b[0m\u001b[32m may cause \u001b[0m\n",
       "\u001b[32mmodel performance to decrease significantly.'\u001b[0m,\n",
       "    \u001b[32m'metric'\u001b[0m: \u001b[32m'Mean Absolute Error'\u001b[0m,\n",
       "    \u001b[32m'severity'\u001b[0m: \u001b[32m'low'\u001b[0m,\n",
       "    \u001b[32m'summary'\u001b[0m: \u001b[32m'mean_absolute_error has a value of 2.5 with low as Severity Index against the 0.6 as threshold '\u001b[0m,\n",
       "    \u001b[32m'threshold'\u001b[0m: \u001b[32m'0.6'\u001b[0m,\n",
       "    \u001b[32m'timestamp'\u001b[0m: \u001b[32m'1694421397'\u001b[0m,\n",
       "    \u001b[32m'value'\u001b[0m: \u001b[32m'2.50'\u001b[0m\n",
       "\u001b[1m}\u001b[0m\n"
      ]
     },
     "metadata": {},
     "output_type": "display_data"
    },
    {
     "data": {
      "text/html": [
       "<pre style=\"white-space:pre;overflow-x:auto;line-height:normal;font-family:Menlo,'DejaVu Sans Mono',consolas,'Courier New',monospace\">Response Status Code: <span style=\"color: #008080; text-decoration-color: #008080; font-weight: bold\">400</span>\n",
       "</pre>\n"
      ],
      "text/plain": [
       "Response Status Code: \u001b[1;36m400\u001b[0m\n"
      ]
     },
     "metadata": {},
     "output_type": "display_data"
    },
    {
     "data": {
      "text/html": [
       "<pre style=\"white-space:pre;overflow-x:auto;line-height:normal;font-family:Menlo,'DejaVu Sans Mono',consolas,'Courier New',monospace\"><span style=\"font-weight: bold\">{</span>\n",
       "    <span style=\"color: #008000; text-decoration-color: #008000\">'category'</span>: <span style=\"color: #008000; text-decoration-color: #008000\">'performance'</span>,\n",
       "    <span style=\"color: #008000; text-decoration-color: #008000\">'description'</span>: <span style=\"color: #008000; text-decoration-color: #008000\">'This test checks the Mean Squared Error (MSE) metric to see both if its performance on the </span>\n",
       "<span style=\"color: #008000; text-decoration-color: #008000\">evaluation set alone is satisfactory, as well as if performance in terms of Mean Squared Error (MSE) has degraded </span>\n",
       "<span style=\"color: #008000; text-decoration-color: #008000\">from the reference to evaluation set. The key detail displays whether the given performance metric has degraded </span>\n",
       "<span style=\"color: #008000; text-decoration-color: #008000\">beyond a defined threshold.'</span>,\n",
       "    <span style=\"color: #008000; text-decoration-color: #008000\">'matters'</span>: <span style=\"color: #008000; text-decoration-color: #008000\">'During production, factors like distribution shift or a change in &lt;span&gt;p(y|x)&lt;/span&gt; may cause </span>\n",
       "<span style=\"color: #008000; text-decoration-color: #008000\">model performance to decrease significantly.'</span>,\n",
       "    <span style=\"color: #008000; text-decoration-color: #008000\">'metric'</span>: <span style=\"color: #008000; text-decoration-color: #008000\">'Mean Squared Error'</span>,\n",
       "    <span style=\"color: #008000; text-decoration-color: #008000\">'severity'</span>: <span style=\"color: #008000; text-decoration-color: #008000\">'low'</span>,\n",
       "    <span style=\"color: #008000; text-decoration-color: #008000\">'summary'</span>: <span style=\"color: #008000; text-decoration-color: #008000\">'mean_squared_error has a value of 9.75 with low as Severity Index against the 0.6 as threshold '</span>,\n",
       "    <span style=\"color: #008000; text-decoration-color: #008000\">'threshold'</span>: <span style=\"color: #008000; text-decoration-color: #008000\">'0.6'</span>,\n",
       "    <span style=\"color: #008000; text-decoration-color: #008000\">'timestamp'</span>: <span style=\"color: #008000; text-decoration-color: #008000\">'1694421397'</span>,\n",
       "    <span style=\"color: #008000; text-decoration-color: #008000\">'value'</span>: <span style=\"color: #008000; text-decoration-color: #008000\">'9.75'</span>\n",
       "<span style=\"font-weight: bold\">}</span>\n",
       "</pre>\n"
      ],
      "text/plain": [
       "\u001b[1m{\u001b[0m\n",
       "    \u001b[32m'category'\u001b[0m: \u001b[32m'performance'\u001b[0m,\n",
       "    \u001b[32m'description'\u001b[0m: \u001b[32m'This test checks the Mean Squared Error \u001b[0m\u001b[32m(\u001b[0m\u001b[32mMSE\u001b[0m\u001b[32m)\u001b[0m\u001b[32m metric to see both if its performance on the \u001b[0m\n",
       "\u001b[32mevaluation set alone is satisfactory, as well as if performance in terms of Mean Squared Error \u001b[0m\u001b[32m(\u001b[0m\u001b[32mMSE\u001b[0m\u001b[32m)\u001b[0m\u001b[32m has degraded \u001b[0m\n",
       "\u001b[32mfrom the reference to evaluation set. The key detail displays whether the given performance metric has degraded \u001b[0m\n",
       "\u001b[32mbeyond a defined threshold.'\u001b[0m,\n",
       "    \u001b[32m'matters'\u001b[0m: \u001b[32m'During production, factors like distribution shift or a change in \u001b[0m\u001b[32m<\u001b[0m\u001b[32mspan\u001b[0m\u001b[32m>\u001b[0m\u001b[32mp\u001b[0m\u001b[32m(\u001b[0m\u001b[32my|x\u001b[0m\u001b[32m)\u001b[0m\u001b[32m<\u001b[0m\u001b[32m/span\u001b[0m\u001b[32m>\u001b[0m\u001b[32m may cause \u001b[0m\n",
       "\u001b[32mmodel performance to decrease significantly.'\u001b[0m,\n",
       "    \u001b[32m'metric'\u001b[0m: \u001b[32m'Mean Squared Error'\u001b[0m,\n",
       "    \u001b[32m'severity'\u001b[0m: \u001b[32m'low'\u001b[0m,\n",
       "    \u001b[32m'summary'\u001b[0m: \u001b[32m'mean_squared_error has a value of 9.75 with low as Severity Index against the 0.6 as threshold '\u001b[0m,\n",
       "    \u001b[32m'threshold'\u001b[0m: \u001b[32m'0.6'\u001b[0m,\n",
       "    \u001b[32m'timestamp'\u001b[0m: \u001b[32m'1694421397'\u001b[0m,\n",
       "    \u001b[32m'value'\u001b[0m: \u001b[32m'9.75'\u001b[0m\n",
       "\u001b[1m}\u001b[0m\n"
      ]
     },
     "metadata": {},
     "output_type": "display_data"
    },
    {
     "data": {
      "text/html": [
       "<pre style=\"white-space:pre;overflow-x:auto;line-height:normal;font-family:Menlo,'DejaVu Sans Mono',consolas,'Courier New',monospace\">Response Status Code: <span style=\"color: #008080; text-decoration-color: #008080; font-weight: bold\">400</span>\n",
       "</pre>\n"
      ],
      "text/plain": [
       "Response Status Code: \u001b[1;36m400\u001b[0m\n"
      ]
     },
     "metadata": {},
     "output_type": "display_data"
    },
    {
     "data": {
      "text/html": [
       "<pre style=\"white-space:pre;overflow-x:auto;line-height:normal;font-family:Menlo,'DejaVu Sans Mono',consolas,'Courier New',monospace\"><span style=\"font-weight: bold\">{</span>\n",
       "    <span style=\"color: #008000; text-decoration-color: #008000\">'category'</span>: <span style=\"color: #008000; text-decoration-color: #008000\">'performance'</span>,\n",
       "    <span style=\"color: #008000; text-decoration-color: #008000\">'description'</span>: <span style=\"color: #008000; text-decoration-color: #008000\">'This test checks the R2 Score metric to see both if its performance on the evaluation set alone</span>\n",
       "<span style=\"color: #008000; text-decoration-color: #008000\">is satisfactory, as well as if performance in terms of R2 Score has degraded from the reference to evaluation set. </span>\n",
       "<span style=\"color: #008000; text-decoration-color: #008000\">The key detail displays whether the given performance metric has degraded beyond a defined threshold.'</span>,\n",
       "    <span style=\"color: #008000; text-decoration-color: #008000\">'matters'</span>: <span style=\"color: #008000; text-decoration-color: #008000\">'During production, factors like distribution shift or a change in &lt;span&gt;p(y|x)&lt;/span&gt; may cause </span>\n",
       "<span style=\"color: #008000; text-decoration-color: #008000\">model performance to decrease significantly.'</span>,\n",
       "    <span style=\"color: #008000; text-decoration-color: #008000\">'metric'</span>: <span style=\"color: #008000; text-decoration-color: #008000\">'R2 Score'</span>,\n",
       "    <span style=\"color: #008000; text-decoration-color: #008000\">'severity'</span>: <span style=\"color: #008000; text-decoration-color: #008000\">'low'</span>,\n",
       "    <span style=\"color: #008000; text-decoration-color: #008000\">'summary'</span>: <span style=\"color: #008000; text-decoration-color: #008000\">'r2_score has a value of 0.98 with low as Severity Index against the 0.6 as threshold '</span>,\n",
       "    <span style=\"color: #008000; text-decoration-color: #008000\">'threshold'</span>: <span style=\"color: #008000; text-decoration-color: #008000\">'0.6'</span>,\n",
       "    <span style=\"color: #008000; text-decoration-color: #008000\">'timestamp'</span>: <span style=\"color: #008000; text-decoration-color: #008000\">'1694421397'</span>,\n",
       "    <span style=\"color: #008000; text-decoration-color: #008000\">'value'</span>: <span style=\"color: #008000; text-decoration-color: #008000\">'0.98'</span>\n",
       "<span style=\"font-weight: bold\">}</span>\n",
       "</pre>\n"
      ],
      "text/plain": [
       "\u001b[1m{\u001b[0m\n",
       "    \u001b[32m'category'\u001b[0m: \u001b[32m'performance'\u001b[0m,\n",
       "    \u001b[32m'description'\u001b[0m: \u001b[32m'This test checks the R2 Score metric to see both if its performance on the evaluation set alone\u001b[0m\n",
       "\u001b[32mis satisfactory, as well as if performance in terms of R2 Score has degraded from the reference to evaluation set. \u001b[0m\n",
       "\u001b[32mThe key detail displays whether the given performance metric has degraded beyond a defined threshold.'\u001b[0m,\n",
       "    \u001b[32m'matters'\u001b[0m: \u001b[32m'During production, factors like distribution shift or a change in \u001b[0m\u001b[32m<\u001b[0m\u001b[32mspan\u001b[0m\u001b[32m>\u001b[0m\u001b[32mp\u001b[0m\u001b[32m(\u001b[0m\u001b[32my|x\u001b[0m\u001b[32m)\u001b[0m\u001b[32m<\u001b[0m\u001b[32m/span\u001b[0m\u001b[32m>\u001b[0m\u001b[32m may cause \u001b[0m\n",
       "\u001b[32mmodel performance to decrease significantly.'\u001b[0m,\n",
       "    \u001b[32m'metric'\u001b[0m: \u001b[32m'R2 Score'\u001b[0m,\n",
       "    \u001b[32m'severity'\u001b[0m: \u001b[32m'low'\u001b[0m,\n",
       "    \u001b[32m'summary'\u001b[0m: \u001b[32m'r2_score has a value of 0.98 with low as Severity Index against the 0.6 as threshold '\u001b[0m,\n",
       "    \u001b[32m'threshold'\u001b[0m: \u001b[32m'0.6'\u001b[0m,\n",
       "    \u001b[32m'timestamp'\u001b[0m: \u001b[32m'1694421397'\u001b[0m,\n",
       "    \u001b[32m'value'\u001b[0m: \u001b[32m'0.98'\u001b[0m\n",
       "\u001b[1m}\u001b[0m\n"
      ]
     },
     "metadata": {},
     "output_type": "display_data"
    },
    {
     "data": {
      "text/html": [
       "<pre style=\"white-space:pre;overflow-x:auto;line-height:normal;font-family:Menlo,'DejaVu Sans Mono',consolas,'Courier New',monospace\">Response Status Code: <span style=\"color: #008080; text-decoration-color: #008080; font-weight: bold\">400</span>\n",
       "</pre>\n"
      ],
      "text/plain": [
       "Response Status Code: \u001b[1;36m400\u001b[0m\n"
      ]
     },
     "metadata": {},
     "output_type": "display_data"
    },
    {
     "data": {
      "text/html": [
       "<pre style=\"white-space:pre;overflow-x:auto;line-height:normal;font-family:Menlo,'DejaVu Sans Mono',consolas,'Courier New',monospace\"><span style=\"font-weight: bold\">{</span>\n",
       "    <span style=\"color: #008000; text-decoration-color: #008000\">'category'</span>: <span style=\"color: #008000; text-decoration-color: #008000\">'performance'</span>,\n",
       "    <span style=\"color: #008000; text-decoration-color: #008000\">'description'</span>: <span style=\"color: #008000; text-decoration-color: #008000\">'This test checks the Max Error metric to see both if its performance on the evaluation set </span>\n",
       "<span style=\"color: #008000; text-decoration-color: #008000\">alone is satisfactory, as well as if performance in terms of Max Error has degraded from the reference to </span>\n",
       "<span style=\"color: #008000; text-decoration-color: #008000\">evaluation set. The key detail displays whether the given performance metric has degraded beyond a defined </span>\n",
       "<span style=\"color: #008000; text-decoration-color: #008000\">threshold.'</span>,\n",
       "    <span style=\"color: #008000; text-decoration-color: #008000\">'matters'</span>: <span style=\"color: #008000; text-decoration-color: #008000\">'During production, factors like distribution shift or a change in &lt;span&gt;p(y|x)&lt;/span&gt; may cause </span>\n",
       "<span style=\"color: #008000; text-decoration-color: #008000\">model performance to decrease significantly.'</span>,\n",
       "    <span style=\"color: #008000; text-decoration-color: #008000\">'metric'</span>: <span style=\"color: #008000; text-decoration-color: #008000\">'Max Error'</span>,\n",
       "    <span style=\"color: #008000; text-decoration-color: #008000\">'severity'</span>: <span style=\"color: #008000; text-decoration-color: #008000\">'low'</span>,\n",
       "    <span style=\"color: #008000; text-decoration-color: #008000\">'summary'</span>: <span style=\"color: #008000; text-decoration-color: #008000\">'max_error has a value of 8.66 with low as Severity Index against the 0.6 as threshold '</span>,\n",
       "    <span style=\"color: #008000; text-decoration-color: #008000\">'threshold'</span>: <span style=\"color: #008000; text-decoration-color: #008000\">'0.6'</span>,\n",
       "    <span style=\"color: #008000; text-decoration-color: #008000\">'timestamp'</span>: <span style=\"color: #008000; text-decoration-color: #008000\">'1694421397'</span>,\n",
       "    <span style=\"color: #008000; text-decoration-color: #008000\">'value'</span>: <span style=\"color: #008000; text-decoration-color: #008000\">'8.66'</span>\n",
       "<span style=\"font-weight: bold\">}</span>\n",
       "</pre>\n"
      ],
      "text/plain": [
       "\u001b[1m{\u001b[0m\n",
       "    \u001b[32m'category'\u001b[0m: \u001b[32m'performance'\u001b[0m,\n",
       "    \u001b[32m'description'\u001b[0m: \u001b[32m'This test checks the Max Error metric to see both if its performance on the evaluation set \u001b[0m\n",
       "\u001b[32malone is satisfactory, as well as if performance in terms of Max Error has degraded from the reference to \u001b[0m\n",
       "\u001b[32mevaluation set. The key detail displays whether the given performance metric has degraded beyond a defined \u001b[0m\n",
       "\u001b[32mthreshold.'\u001b[0m,\n",
       "    \u001b[32m'matters'\u001b[0m: \u001b[32m'During production, factors like distribution shift or a change in \u001b[0m\u001b[32m<\u001b[0m\u001b[32mspan\u001b[0m\u001b[32m>\u001b[0m\u001b[32mp\u001b[0m\u001b[32m(\u001b[0m\u001b[32my|x\u001b[0m\u001b[32m)\u001b[0m\u001b[32m<\u001b[0m\u001b[32m/span\u001b[0m\u001b[32m>\u001b[0m\u001b[32m may cause \u001b[0m\n",
       "\u001b[32mmodel performance to decrease significantly.'\u001b[0m,\n",
       "    \u001b[32m'metric'\u001b[0m: \u001b[32m'Max Error'\u001b[0m,\n",
       "    \u001b[32m'severity'\u001b[0m: \u001b[32m'low'\u001b[0m,\n",
       "    \u001b[32m'summary'\u001b[0m: \u001b[32m'max_error has a value of 8.66 with low as Severity Index against the 0.6 as threshold '\u001b[0m,\n",
       "    \u001b[32m'threshold'\u001b[0m: \u001b[32m'0.6'\u001b[0m,\n",
       "    \u001b[32m'timestamp'\u001b[0m: \u001b[32m'1694421397'\u001b[0m,\n",
       "    \u001b[32m'value'\u001b[0m: \u001b[32m'8.66'\u001b[0m\n",
       "\u001b[1m}\u001b[0m\n"
      ]
     },
     "metadata": {},
     "output_type": "display_data"
    },
    {
     "data": {
      "text/html": [
       "<pre style=\"white-space:pre;overflow-x:auto;line-height:normal;font-family:Menlo,'DejaVu Sans Mono',consolas,'Courier New',monospace\">Response Status Code: <span style=\"color: #008080; text-decoration-color: #008080; font-weight: bold\">400</span>\n",
       "</pre>\n"
      ],
      "text/plain": [
       "Response Status Code: \u001b[1;36m400\u001b[0m\n"
      ]
     },
     "metadata": {},
     "output_type": "display_data"
    },
    {
     "data": {
      "text/html": [
       "<pre style=\"white-space:pre;overflow-x:auto;line-height:normal;font-family:Menlo,'DejaVu Sans Mono',consolas,'Courier New',monospace\"><span style=\"font-weight: bold\">{</span>\n",
       "    <span style=\"color: #008000; text-decoration-color: #008000\">'category'</span>: <span style=\"color: #008000; text-decoration-color: #008000\">'performance'</span>,\n",
       "    <span style=\"color: #008000; text-decoration-color: #008000\">'description'</span>: <span style=\"color: #008000; text-decoration-color: #008000\">'This test checks the Median Absolute Error metric to see both if its performance on the </span>\n",
       "<span style=\"color: #008000; text-decoration-color: #008000\">evaluation set alone is satisfactory, as well as if performance in terms of Median Absolute Error has degraded from</span>\n",
       "<span style=\"color: #008000; text-decoration-color: #008000\">the reference to evaluation set. The key detail displays whether the given performance metric has degraded beyond a</span>\n",
       "<span style=\"color: #008000; text-decoration-color: #008000\">defined threshold.'</span>,\n",
       "    <span style=\"color: #008000; text-decoration-color: #008000\">'matters'</span>: <span style=\"color: #008000; text-decoration-color: #008000\">'During production, factors like distribution shift or a change in &lt;span&gt;p(y|x)&lt;/span&gt; may cause </span>\n",
       "<span style=\"color: #008000; text-decoration-color: #008000\">model performance to decrease significantly.'</span>,\n",
       "    <span style=\"color: #008000; text-decoration-color: #008000\">'metric'</span>: <span style=\"color: #008000; text-decoration-color: #008000\">'Median Absolute Error'</span>,\n",
       "    <span style=\"color: #008000; text-decoration-color: #008000\">'severity'</span>: <span style=\"color: #008000; text-decoration-color: #008000\">'low'</span>,\n",
       "    <span style=\"color: #008000; text-decoration-color: #008000\">'summary'</span>: <span style=\"color: #008000; text-decoration-color: #008000\">'median_absolute_error has a value of 2.13 with low as Severity Index against the 0.6 as threshold </span>\n",
       "<span style=\"color: #008000; text-decoration-color: #008000\">'</span>,\n",
       "    <span style=\"color: #008000; text-decoration-color: #008000\">'threshold'</span>: <span style=\"color: #008000; text-decoration-color: #008000\">'0.6'</span>,\n",
       "    <span style=\"color: #008000; text-decoration-color: #008000\">'timestamp'</span>: <span style=\"color: #008000; text-decoration-color: #008000\">'1694421397'</span>,\n",
       "    <span style=\"color: #008000; text-decoration-color: #008000\">'value'</span>: <span style=\"color: #008000; text-decoration-color: #008000\">'2.13'</span>\n",
       "<span style=\"font-weight: bold\">}</span>\n",
       "</pre>\n"
      ],
      "text/plain": [
       "\u001b[1m{\u001b[0m\n",
       "    \u001b[32m'category'\u001b[0m: \u001b[32m'performance'\u001b[0m,\n",
       "    \u001b[32m'description'\u001b[0m: \u001b[32m'This test checks the Median Absolute Error metric to see both if its performance on the \u001b[0m\n",
       "\u001b[32mevaluation set alone is satisfactory, as well as if performance in terms of Median Absolute Error has degraded from\u001b[0m\n",
       "\u001b[32mthe reference to evaluation set. The key detail displays whether the given performance metric has degraded beyond a\u001b[0m\n",
       "\u001b[32mdefined threshold.'\u001b[0m,\n",
       "    \u001b[32m'matters'\u001b[0m: \u001b[32m'During production, factors like distribution shift or a change in \u001b[0m\u001b[32m<\u001b[0m\u001b[32mspan\u001b[0m\u001b[32m>\u001b[0m\u001b[32mp\u001b[0m\u001b[32m(\u001b[0m\u001b[32my|x\u001b[0m\u001b[32m)\u001b[0m\u001b[32m<\u001b[0m\u001b[32m/span\u001b[0m\u001b[32m>\u001b[0m\u001b[32m may cause \u001b[0m\n",
       "\u001b[32mmodel performance to decrease significantly.'\u001b[0m,\n",
       "    \u001b[32m'metric'\u001b[0m: \u001b[32m'Median Absolute Error'\u001b[0m,\n",
       "    \u001b[32m'severity'\u001b[0m: \u001b[32m'low'\u001b[0m,\n",
       "    \u001b[32m'summary'\u001b[0m: \u001b[32m'median_absolute_error has a value of 2.13 with low as Severity Index against the 0.6 as threshold \u001b[0m\n",
       "\u001b[32m'\u001b[0m,\n",
       "    \u001b[32m'threshold'\u001b[0m: \u001b[32m'0.6'\u001b[0m,\n",
       "    \u001b[32m'timestamp'\u001b[0m: \u001b[32m'1694421397'\u001b[0m,\n",
       "    \u001b[32m'value'\u001b[0m: \u001b[32m'2.13'\u001b[0m\n",
       "\u001b[1m}\u001b[0m\n"
      ]
     },
     "metadata": {},
     "output_type": "display_data"
    },
    {
     "data": {
      "text/html": [
       "<pre style=\"white-space:pre;overflow-x:auto;line-height:normal;font-family:Menlo,'DejaVu Sans Mono',consolas,'Courier New',monospace\">Response Status Code: <span style=\"color: #008080; text-decoration-color: #008080; font-weight: bold\">400</span>\n",
       "</pre>\n"
      ],
      "text/plain": [
       "Response Status Code: \u001b[1;36m400\u001b[0m\n"
      ]
     },
     "metadata": {},
     "output_type": "display_data"
    },
    {
     "data": {
      "text/html": [
       "<pre style=\"white-space:pre;overflow-x:auto;line-height:normal;font-family:Menlo,'DejaVu Sans Mono',consolas,'Courier New',monospace\"><span style=\"font-weight: bold\">{</span>\n",
       "    <span style=\"color: #008000; text-decoration-color: #008000\">'category'</span>: <span style=\"color: #008000; text-decoration-color: #008000\">'performance'</span>,\n",
       "    <span style=\"color: #008000; text-decoration-color: #008000\">'description'</span>: <span style=\"color: #008000; text-decoration-color: #008000\">'This test checks the D2 Absolute Error Score metric to see both if its performance on the </span>\n",
       "<span style=\"color: #008000; text-decoration-color: #008000\">evaluation set alone is satisfactory, as well as if performance in terms of D2 Absolute Error Score has degraded </span>\n",
       "<span style=\"color: #008000; text-decoration-color: #008000\">from the reference to evaluation set. The key detail displays whether the given performance metric has degraded </span>\n",
       "<span style=\"color: #008000; text-decoration-color: #008000\">beyond a defined threshold.'</span>,\n",
       "    <span style=\"color: #008000; text-decoration-color: #008000\">'matters'</span>: <span style=\"color: #008000; text-decoration-color: #008000\">'During production, factors like distribution shift or a change in &lt;span&gt;p(y|x)&lt;/span&gt; may cause </span>\n",
       "<span style=\"color: #008000; text-decoration-color: #008000\">model performance to decrease significantly.'</span>,\n",
       "    <span style=\"color: #008000; text-decoration-color: #008000\">'metric'</span>: <span style=\"color: #008000; text-decoration-color: #008000\">'D2 Absolute Error Score'</span>,\n",
       "    <span style=\"color: #008000; text-decoration-color: #008000\">'severity'</span>: <span style=\"color: #008000; text-decoration-color: #008000\">'pass'</span>,\n",
       "    <span style=\"color: #008000; text-decoration-color: #008000\">'summary'</span>: <span style=\"color: #008000; text-decoration-color: #008000\">'d2_absolute_error_score has a value of 0.87 with pass as Severity Index against the 0.6 as </span>\n",
       "<span style=\"color: #008000; text-decoration-color: #008000\">threshold '</span>,\n",
       "    <span style=\"color: #008000; text-decoration-color: #008000\">'threshold'</span>: <span style=\"color: #008000; text-decoration-color: #008000\">'0.6'</span>,\n",
       "    <span style=\"color: #008000; text-decoration-color: #008000\">'timestamp'</span>: <span style=\"color: #008000; text-decoration-color: #008000\">'1694421397'</span>,\n",
       "    <span style=\"color: #008000; text-decoration-color: #008000\">'value'</span>: <span style=\"color: #008000; text-decoration-color: #008000\">'0.87'</span>\n",
       "<span style=\"font-weight: bold\">}</span>\n",
       "</pre>\n"
      ],
      "text/plain": [
       "\u001b[1m{\u001b[0m\n",
       "    \u001b[32m'category'\u001b[0m: \u001b[32m'performance'\u001b[0m,\n",
       "    \u001b[32m'description'\u001b[0m: \u001b[32m'This test checks the D2 Absolute Error Score metric to see both if its performance on the \u001b[0m\n",
       "\u001b[32mevaluation set alone is satisfactory, as well as if performance in terms of D2 Absolute Error Score has degraded \u001b[0m\n",
       "\u001b[32mfrom the reference to evaluation set. The key detail displays whether the given performance metric has degraded \u001b[0m\n",
       "\u001b[32mbeyond a defined threshold.'\u001b[0m,\n",
       "    \u001b[32m'matters'\u001b[0m: \u001b[32m'During production, factors like distribution shift or a change in \u001b[0m\u001b[32m<\u001b[0m\u001b[32mspan\u001b[0m\u001b[32m>\u001b[0m\u001b[32mp\u001b[0m\u001b[32m(\u001b[0m\u001b[32my|x\u001b[0m\u001b[32m)\u001b[0m\u001b[32m<\u001b[0m\u001b[32m/span\u001b[0m\u001b[32m>\u001b[0m\u001b[32m may cause \u001b[0m\n",
       "\u001b[32mmodel performance to decrease significantly.'\u001b[0m,\n",
       "    \u001b[32m'metric'\u001b[0m: \u001b[32m'D2 Absolute Error Score'\u001b[0m,\n",
       "    \u001b[32m'severity'\u001b[0m: \u001b[32m'pass'\u001b[0m,\n",
       "    \u001b[32m'summary'\u001b[0m: \u001b[32m'd2_absolute_error_score has a value of 0.87 with pass as Severity Index against the 0.6 as \u001b[0m\n",
       "\u001b[32mthreshold '\u001b[0m,\n",
       "    \u001b[32m'threshold'\u001b[0m: \u001b[32m'0.6'\u001b[0m,\n",
       "    \u001b[32m'timestamp'\u001b[0m: \u001b[32m'1694421397'\u001b[0m,\n",
       "    \u001b[32m'value'\u001b[0m: \u001b[32m'0.87'\u001b[0m\n",
       "\u001b[1m}\u001b[0m\n"
      ]
     },
     "metadata": {},
     "output_type": "display_data"
    },
    {
     "data": {
      "text/html": [
       "<pre style=\"white-space:pre;overflow-x:auto;line-height:normal;font-family:Menlo,'DejaVu Sans Mono',consolas,'Courier New',monospace\">Response Status Code: <span style=\"color: #008080; text-decoration-color: #008080; font-weight: bold\">400</span>\n",
       "</pre>\n"
      ],
      "text/plain": [
       "Response Status Code: \u001b[1;36m400\u001b[0m\n"
      ]
     },
     "metadata": {},
     "output_type": "display_data"
    },
    {
     "data": {
      "text/html": [
       "<pre style=\"white-space:pre;overflow-x:auto;line-height:normal;font-family:Menlo,'DejaVu Sans Mono',consolas,'Courier New',monospace\"><span style=\"font-weight: bold\">{</span>\n",
       "    <span style=\"color: #008000; text-decoration-color: #008000\">'category'</span>: <span style=\"color: #008000; text-decoration-color: #008000\">'performance'</span>,\n",
       "    <span style=\"color: #008000; text-decoration-color: #008000\">'description'</span>: <span style=\"color: #008000; text-decoration-color: #008000\">'This test checks the D2 Pinball Score metric to see both if its performance on the evaluation </span>\n",
       "<span style=\"color: #008000; text-decoration-color: #008000\">set alone is satisfactory, as well as if performance in terms of D2 Pinball Score has degraded from the reference </span>\n",
       "<span style=\"color: #008000; text-decoration-color: #008000\">to evaluation set. The key detail displays whether the given performance metric has degraded beyond a defined </span>\n",
       "<span style=\"color: #008000; text-decoration-color: #008000\">threshold.'</span>,\n",
       "    <span style=\"color: #008000; text-decoration-color: #008000\">'matters'</span>: <span style=\"color: #008000; text-decoration-color: #008000\">'During production, factors like distribution shift or a change in &lt;span&gt;p(y|x)&lt;/span&gt; may cause </span>\n",
       "<span style=\"color: #008000; text-decoration-color: #008000\">model performance to decrease significantly.'</span>,\n",
       "    <span style=\"color: #008000; text-decoration-color: #008000\">'metric'</span>: <span style=\"color: #008000; text-decoration-color: #008000\">'D2 Pinball Score'</span>,\n",
       "    <span style=\"color: #008000; text-decoration-color: #008000\">'severity'</span>: <span style=\"color: #008000; text-decoration-color: #008000\">'pass'</span>,\n",
       "    <span style=\"color: #008000; text-decoration-color: #008000\">'summary'</span>: <span style=\"color: #008000; text-decoration-color: #008000\">'d2_pinball_score has a value of 0.87 with pass as Severity Index against the 0.6 as threshold '</span>,\n",
       "    <span style=\"color: #008000; text-decoration-color: #008000\">'threshold'</span>: <span style=\"color: #008000; text-decoration-color: #008000\">'0.6'</span>,\n",
       "    <span style=\"color: #008000; text-decoration-color: #008000\">'timestamp'</span>: <span style=\"color: #008000; text-decoration-color: #008000\">'1694421397'</span>,\n",
       "    <span style=\"color: #008000; text-decoration-color: #008000\">'value'</span>: <span style=\"color: #008000; text-decoration-color: #008000\">'0.87'</span>\n",
       "<span style=\"font-weight: bold\">}</span>\n",
       "</pre>\n"
      ],
      "text/plain": [
       "\u001b[1m{\u001b[0m\n",
       "    \u001b[32m'category'\u001b[0m: \u001b[32m'performance'\u001b[0m,\n",
       "    \u001b[32m'description'\u001b[0m: \u001b[32m'This test checks the D2 Pinball Score metric to see both if its performance on the evaluation \u001b[0m\n",
       "\u001b[32mset alone is satisfactory, as well as if performance in terms of D2 Pinball Score has degraded from the reference \u001b[0m\n",
       "\u001b[32mto evaluation set. The key detail displays whether the given performance metric has degraded beyond a defined \u001b[0m\n",
       "\u001b[32mthreshold.'\u001b[0m,\n",
       "    \u001b[32m'matters'\u001b[0m: \u001b[32m'During production, factors like distribution shift or a change in \u001b[0m\u001b[32m<\u001b[0m\u001b[32mspan\u001b[0m\u001b[32m>\u001b[0m\u001b[32mp\u001b[0m\u001b[32m(\u001b[0m\u001b[32my|x\u001b[0m\u001b[32m)\u001b[0m\u001b[32m<\u001b[0m\u001b[32m/span\u001b[0m\u001b[32m>\u001b[0m\u001b[32m may cause \u001b[0m\n",
       "\u001b[32mmodel performance to decrease significantly.'\u001b[0m,\n",
       "    \u001b[32m'metric'\u001b[0m: \u001b[32m'D2 Pinball Score'\u001b[0m,\n",
       "    \u001b[32m'severity'\u001b[0m: \u001b[32m'pass'\u001b[0m,\n",
       "    \u001b[32m'summary'\u001b[0m: \u001b[32m'd2_pinball_score has a value of 0.87 with pass as Severity Index against the 0.6 as threshold '\u001b[0m,\n",
       "    \u001b[32m'threshold'\u001b[0m: \u001b[32m'0.6'\u001b[0m,\n",
       "    \u001b[32m'timestamp'\u001b[0m: \u001b[32m'1694421397'\u001b[0m,\n",
       "    \u001b[32m'value'\u001b[0m: \u001b[32m'0.87'\u001b[0m\n",
       "\u001b[1m}\u001b[0m\n"
      ]
     },
     "metadata": {},
     "output_type": "display_data"
    },
    {
     "data": {
      "text/html": [
       "<pre style=\"white-space:pre;overflow-x:auto;line-height:normal;font-family:Menlo,'DejaVu Sans Mono',consolas,'Courier New',monospace\">Response Status Code: <span style=\"color: #008080; text-decoration-color: #008080; font-weight: bold\">400</span>\n",
       "</pre>\n"
      ],
      "text/plain": [
       "Response Status Code: \u001b[1;36m400\u001b[0m\n"
      ]
     },
     "metadata": {},
     "output_type": "display_data"
    },
    {
     "data": {
      "text/html": [
       "<pre style=\"white-space:pre;overflow-x:auto;line-height:normal;font-family:Menlo,'DejaVu Sans Mono',consolas,'Courier New',monospace\"><span style=\"font-weight: bold\">{</span>\n",
       "    <span style=\"color: #008000; text-decoration-color: #008000\">'category'</span>: <span style=\"color: #008000; text-decoration-color: #008000\">'performance'</span>,\n",
       "    <span style=\"color: #008000; text-decoration-color: #008000\">'description'</span>: <span style=\"color: #008000; text-decoration-color: #008000\">'This test checks the D2 Tweedie Score metric to see both if its performance on the evaluation </span>\n",
       "<span style=\"color: #008000; text-decoration-color: #008000\">set alone is satisfactory, as well as if performance in terms of D2 Tweedie Score has degraded from the reference </span>\n",
       "<span style=\"color: #008000; text-decoration-color: #008000\">to evaluation set. The key detail displays whether the given performance metric has degraded beyond a defined </span>\n",
       "<span style=\"color: #008000; text-decoration-color: #008000\">threshold.'</span>,\n",
       "    <span style=\"color: #008000; text-decoration-color: #008000\">'matters'</span>: <span style=\"color: #008000; text-decoration-color: #008000\">'During production, factors like distribution shift or a change in &lt;span&gt;p(y|x)&lt;/span&gt; may cause </span>\n",
       "<span style=\"color: #008000; text-decoration-color: #008000\">model performance to decrease significantly.'</span>,\n",
       "    <span style=\"color: #008000; text-decoration-color: #008000\">'metric'</span>: <span style=\"color: #008000; text-decoration-color: #008000\">'D2 Tweedie Score'</span>,\n",
       "    <span style=\"color: #008000; text-decoration-color: #008000\">'severity'</span>: <span style=\"color: #008000; text-decoration-color: #008000\">'low'</span>,\n",
       "    <span style=\"color: #008000; text-decoration-color: #008000\">'summary'</span>: <span style=\"color: #008000; text-decoration-color: #008000\">'d2_tweedie_score has a value of 0.98 with low as Severity Index against the 0.6 as threshold '</span>,\n",
       "    <span style=\"color: #008000; text-decoration-color: #008000\">'threshold'</span>: <span style=\"color: #008000; text-decoration-color: #008000\">'0.6'</span>,\n",
       "    <span style=\"color: #008000; text-decoration-color: #008000\">'timestamp'</span>: <span style=\"color: #008000; text-decoration-color: #008000\">'1694421397'</span>,\n",
       "    <span style=\"color: #008000; text-decoration-color: #008000\">'value'</span>: <span style=\"color: #008000; text-decoration-color: #008000\">'0.98'</span>\n",
       "<span style=\"font-weight: bold\">}</span>\n",
       "</pre>\n"
      ],
      "text/plain": [
       "\u001b[1m{\u001b[0m\n",
       "    \u001b[32m'category'\u001b[0m: \u001b[32m'performance'\u001b[0m,\n",
       "    \u001b[32m'description'\u001b[0m: \u001b[32m'This test checks the D2 Tweedie Score metric to see both if its performance on the evaluation \u001b[0m\n",
       "\u001b[32mset alone is satisfactory, as well as if performance in terms of D2 Tweedie Score has degraded from the reference \u001b[0m\n",
       "\u001b[32mto evaluation set. The key detail displays whether the given performance metric has degraded beyond a defined \u001b[0m\n",
       "\u001b[32mthreshold.'\u001b[0m,\n",
       "    \u001b[32m'matters'\u001b[0m: \u001b[32m'During production, factors like distribution shift or a change in \u001b[0m\u001b[32m<\u001b[0m\u001b[32mspan\u001b[0m\u001b[32m>\u001b[0m\u001b[32mp\u001b[0m\u001b[32m(\u001b[0m\u001b[32my|x\u001b[0m\u001b[32m)\u001b[0m\u001b[32m<\u001b[0m\u001b[32m/span\u001b[0m\u001b[32m>\u001b[0m\u001b[32m may cause \u001b[0m\n",
       "\u001b[32mmodel performance to decrease significantly.'\u001b[0m,\n",
       "    \u001b[32m'metric'\u001b[0m: \u001b[32m'D2 Tweedie Score'\u001b[0m,\n",
       "    \u001b[32m'severity'\u001b[0m: \u001b[32m'low'\u001b[0m,\n",
       "    \u001b[32m'summary'\u001b[0m: \u001b[32m'd2_tweedie_score has a value of 0.98 with low as Severity Index against the 0.6 as threshold '\u001b[0m,\n",
       "    \u001b[32m'threshold'\u001b[0m: \u001b[32m'0.6'\u001b[0m,\n",
       "    \u001b[32m'timestamp'\u001b[0m: \u001b[32m'1694421397'\u001b[0m,\n",
       "    \u001b[32m'value'\u001b[0m: \u001b[32m'0.98'\u001b[0m\n",
       "\u001b[1m}\u001b[0m\n"
      ]
     },
     "metadata": {},
     "output_type": "display_data"
    },
    {
     "data": {
      "text/html": [
       "<pre style=\"white-space:pre;overflow-x:auto;line-height:normal;font-family:Menlo,'DejaVu Sans Mono',consolas,'Courier New',monospace\">Response Status Code: <span style=\"color: #008080; text-decoration-color: #008080; font-weight: bold\">400</span>\n",
       "</pre>\n"
      ],
      "text/plain": [
       "Response Status Code: \u001b[1;36m400\u001b[0m\n"
      ]
     },
     "metadata": {},
     "output_type": "display_data"
    },
    {
     "data": {
      "text/html": [
       "<pre style=\"white-space:pre;overflow-x:auto;line-height:normal;font-family:Menlo,'DejaVu Sans Mono',consolas,'Courier New',monospace\"><span style=\"font-weight: bold\">{</span>\n",
       "    <span style=\"color: #008000; text-decoration-color: #008000\">'category'</span>: <span style=\"color: #008000; text-decoration-color: #008000\">'performance'</span>,\n",
       "    <span style=\"color: #008000; text-decoration-color: #008000\">'description'</span>: <span style=\"color: #008000; text-decoration-color: #008000\">'This test checks the Explained Variance Score metric to see both if its performance on the </span>\n",
       "<span style=\"color: #008000; text-decoration-color: #008000\">evaluation set alone is satisfactory, as well as if performance in terms of Explained Variance Score has degraded </span>\n",
       "<span style=\"color: #008000; text-decoration-color: #008000\">from the reference to evaluation set. The key detail displays whether the given performance metric has degraded </span>\n",
       "<span style=\"color: #008000; text-decoration-color: #008000\">beyond a defined threshold.'</span>,\n",
       "    <span style=\"color: #008000; text-decoration-color: #008000\">'matters'</span>: <span style=\"color: #008000; text-decoration-color: #008000\">'During production, factors like distribution shift or a change in &lt;span&gt;p(y|x)&lt;/span&gt; may cause </span>\n",
       "<span style=\"color: #008000; text-decoration-color: #008000\">model performance to decrease significantly.'</span>,\n",
       "    <span style=\"color: #008000; text-decoration-color: #008000\">'metric'</span>: <span style=\"color: #008000; text-decoration-color: #008000\">'Explained Variance Score'</span>,\n",
       "    <span style=\"color: #008000; text-decoration-color: #008000\">'severity'</span>: <span style=\"color: #008000; text-decoration-color: #008000\">'low'</span>,\n",
       "    <span style=\"color: #008000; text-decoration-color: #008000\">'summary'</span>: <span style=\"color: #008000; text-decoration-color: #008000\">'explained_variance_score has a value of 0.98 with low as Severity Index against the 0.6 as </span>\n",
       "<span style=\"color: #008000; text-decoration-color: #008000\">threshold '</span>,\n",
       "    <span style=\"color: #008000; text-decoration-color: #008000\">'threshold'</span>: <span style=\"color: #008000; text-decoration-color: #008000\">'0.6'</span>,\n",
       "    <span style=\"color: #008000; text-decoration-color: #008000\">'timestamp'</span>: <span style=\"color: #008000; text-decoration-color: #008000\">'1694421397'</span>,\n",
       "    <span style=\"color: #008000; text-decoration-color: #008000\">'value'</span>: <span style=\"color: #008000; text-decoration-color: #008000\">'0.98'</span>\n",
       "<span style=\"font-weight: bold\">}</span>\n",
       "</pre>\n"
      ],
      "text/plain": [
       "\u001b[1m{\u001b[0m\n",
       "    \u001b[32m'category'\u001b[0m: \u001b[32m'performance'\u001b[0m,\n",
       "    \u001b[32m'description'\u001b[0m: \u001b[32m'This test checks the Explained Variance Score metric to see both if its performance on the \u001b[0m\n",
       "\u001b[32mevaluation set alone is satisfactory, as well as if performance in terms of Explained Variance Score has degraded \u001b[0m\n",
       "\u001b[32mfrom the reference to evaluation set. The key detail displays whether the given performance metric has degraded \u001b[0m\n",
       "\u001b[32mbeyond a defined threshold.'\u001b[0m,\n",
       "    \u001b[32m'matters'\u001b[0m: \u001b[32m'During production, factors like distribution shift or a change in \u001b[0m\u001b[32m<\u001b[0m\u001b[32mspan\u001b[0m\u001b[32m>\u001b[0m\u001b[32mp\u001b[0m\u001b[32m(\u001b[0m\u001b[32my|x\u001b[0m\u001b[32m)\u001b[0m\u001b[32m<\u001b[0m\u001b[32m/span\u001b[0m\u001b[32m>\u001b[0m\u001b[32m may cause \u001b[0m\n",
       "\u001b[32mmodel performance to decrease significantly.'\u001b[0m,\n",
       "    \u001b[32m'metric'\u001b[0m: \u001b[32m'Explained Variance Score'\u001b[0m,\n",
       "    \u001b[32m'severity'\u001b[0m: \u001b[32m'low'\u001b[0m,\n",
       "    \u001b[32m'summary'\u001b[0m: \u001b[32m'explained_variance_score has a value of 0.98 with low as Severity Index against the 0.6 as \u001b[0m\n",
       "\u001b[32mthreshold '\u001b[0m,\n",
       "    \u001b[32m'threshold'\u001b[0m: \u001b[32m'0.6'\u001b[0m,\n",
       "    \u001b[32m'timestamp'\u001b[0m: \u001b[32m'1694421397'\u001b[0m,\n",
       "    \u001b[32m'value'\u001b[0m: \u001b[32m'0.98'\u001b[0m\n",
       "\u001b[1m}\u001b[0m\n"
      ]
     },
     "metadata": {},
     "output_type": "display_data"
    },
    {
     "data": {
      "text/html": [
       "<pre style=\"white-space:pre;overflow-x:auto;line-height:normal;font-family:Menlo,'DejaVu Sans Mono',consolas,'Courier New',monospace\">Response Status Code: <span style=\"color: #008080; text-decoration-color: #008080; font-weight: bold\">400</span>\n",
       "</pre>\n"
      ],
      "text/plain": [
       "Response Status Code: \u001b[1;36m400\u001b[0m\n"
      ]
     },
     "metadata": {},
     "output_type": "display_data"
    },
    {
     "data": {
      "text/html": [
       "<pre style=\"white-space:pre;overflow-x:auto;line-height:normal;font-family:Menlo,'DejaVu Sans Mono',consolas,'Courier New',monospace\"><span style=\"color: #008080; text-decoration-color: #008080; font-weight: bold\">400</span>\n",
       "</pre>\n"
      ],
      "text/plain": [
       "\u001b[1;36m400\u001b[0m\n"
      ]
     },
     "metadata": {},
     "output_type": "display_data"
    },
    {
     "data": {
      "text/html": [
       "<pre style=\"white-space:pre;overflow-x:auto;line-height:normal;font-family:Menlo,'DejaVu Sans Mono',consolas,'Courier New',monospace\"><span style=\"font-weight: bold\">{</span><span style=\"color: #008000; text-decoration-color: #008000\">'status'</span>: <span style=\"color: #008080; text-decoration-color: #008080; font-weight: bold\">200</span>, <span style=\"color: #008000; text-decoration-color: #008000\">'data'</span>: <span style=\"color: #800080; text-decoration-color: #800080; font-style: italic\">None</span>, <span style=\"color: #008000; text-decoration-color: #008000\">'message'</span>: <span style=\"color: #008000; text-decoration-color: #008000\">'Monitoring Logs for model version'</span><span style=\"font-weight: bold\">}</span>\n",
       "</pre>\n"
      ],
      "text/plain": [
       "\u001b[1m{\u001b[0m\u001b[32m'status'\u001b[0m: \u001b[1;36m200\u001b[0m, \u001b[32m'data'\u001b[0m: \u001b[3;35mNone\u001b[0m, \u001b[32m'message'\u001b[0m: \u001b[32m'Monitoring Logs for model version'\u001b[0m\u001b[1m}\u001b[0m\n"
      ]
     },
     "metadata": {},
     "output_type": "display_data"
    }
   ],
   "source": [
    "from pureml_monitor.monitor.monitor_run import eval \n",
    "\n",
    "reference_result,production_result,drift_result = eval(label_model = 'model_monitoring:main:v1', label_reference_dataset= 'reference_dataset_monitoring:main:v1',\n",
    "                    label_production_dataset = 'production_dataset_monitoring:main:v1',\n",
    "             drift_type= 'feature_drift',variate_type = 'univariate', datasetype =  'continuous',task_type = 'regression',columns = ['Feature1', 'Feature2', 'Feature3'],timestamp='1694421397')"
   ]
  },
  {
   "cell_type": "code",
   "execution_count": 3,
   "metadata": {},
   "outputs": [
    {
     "data": {
      "text/plain": [
       "{'complete': {'performance': {'mean_absolute_error': {'value': 2.4972338182714697,\n",
       "    'severity': 'low',\n",
       "    'threshold': 0.6,\n",
       "    'summary': 'mean_absolute_error has a value of 2.5 with low as Severity Index against the 0.6 as threshold ',\n",
       "    'description': 'This test checks the Mean Absolute Error (MAE) metric to see both if its performance on the evaluation set alone is satisfactory, as well as if performance in terms of Mean Absolute Error (MAE) has degraded from the reference to evaluation set. The key detail displays whether the given performance metric has degraded beyond a defined threshold.',\n",
       "    'matters': 'During production, factors like distribution shift or a change in <span>p(y|x)</span> may cause model performance to decrease significantly.'},\n",
       "   'mean_squared_error': {'value': 9.754796556355302,\n",
       "    'severity': 'low',\n",
       "    'threshold': 0.6,\n",
       "    'summary': 'mean_squared_error has a value of 9.75 with low as Severity Index against the 0.6 as threshold ',\n",
       "    'description': 'This test checks the Mean Squared Error (MSE) metric to see both if its performance on the evaluation set alone is satisfactory, as well as if performance in terms of Mean Squared Error (MSE) has degraded from the reference to evaluation set. The key detail displays whether the given performance metric has degraded beyond a defined threshold.',\n",
       "    'matters': 'During production, factors like distribution shift or a change in <span>p(y|x)</span> may cause model performance to decrease significantly.'},\n",
       "   'r2_score': {'value': 0.9810568570750805,\n",
       "    'severity': 'low',\n",
       "    'threshold': 0.6,\n",
       "    'summary': 'r2_score has a value of 0.98 with low as Severity Index against the 0.6 as threshold ',\n",
       "    'description': 'This test checks the R2 Score metric to see both if its performance on the evaluation set alone is satisfactory, as well as if performance in terms of R2 Score has degraded from the reference to evaluation set. The key detail displays whether the given performance metric has degraded beyond a defined threshold.',\n",
       "    'matters': 'During production, factors like distribution shift or a change in <span>p(y|x)</span> may cause model performance to decrease significantly.'},\n",
       "   'max_error': {'value': 8.66413705381504,\n",
       "    'severity': 'low',\n",
       "    'threshold': 0.6,\n",
       "    'summary': 'max_error has a value of 8.66 with low as Severity Index against the 0.6 as threshold ',\n",
       "    'description': 'This test checks the Max Error metric to see both if its performance on the evaluation set alone is satisfactory, as well as if performance in terms of Max Error has degraded from the reference to evaluation set. The key detail displays whether the given performance metric has degraded beyond a defined threshold.',\n",
       "    'matters': 'During production, factors like distribution shift or a change in <span>p(y|x)</span> may cause model performance to decrease significantly.'},\n",
       "   'median_absolute_error': {'value': 2.1270308361484993,\n",
       "    'severity': 'low',\n",
       "    'threshold': 0.6,\n",
       "    'summary': 'median_absolute_error has a value of 2.13 with low as Severity Index against the 0.6 as threshold ',\n",
       "    'description': 'This test checks the Median Absolute Error metric to see both if its performance on the evaluation set alone is satisfactory, as well as if performance in terms of Median Absolute Error has degraded from the reference to evaluation set. The key detail displays whether the given performance metric has degraded beyond a defined threshold.',\n",
       "    'matters': 'During production, factors like distribution shift or a change in <span>p(y|x)</span> may cause model performance to decrease significantly.'},\n",
       "   'd2_absolute_error_score': {'value': 0.8653341051528098,\n",
       "    'severity': 'pass',\n",
       "    'threshold': 0.6,\n",
       "    'summary': 'd2_absolute_error_score has a value of 0.87 with pass as Severity Index against the 0.6 as threshold ',\n",
       "    'description': 'This test checks the D2 Absolute Error Score metric to see both if its performance on the evaluation set alone is satisfactory, as well as if performance in terms of D2 Absolute Error Score has degraded from the reference to evaluation set. The key detail displays whether the given performance metric has degraded beyond a defined threshold.',\n",
       "    'matters': 'During production, factors like distribution shift or a change in <span>p(y|x)</span> may cause model performance to decrease significantly.'},\n",
       "   'd2_pinball_score': {'value': 0.8653341051528098,\n",
       "    'severity': 'pass',\n",
       "    'threshold': 0.6,\n",
       "    'summary': 'd2_pinball_score has a value of 0.87 with pass as Severity Index against the 0.6 as threshold ',\n",
       "    'description': 'This test checks the D2 Pinball Score metric to see both if its performance on the evaluation set alone is satisfactory, as well as if performance in terms of D2 Pinball Score has degraded from the reference to evaluation set. The key detail displays whether the given performance metric has degraded beyond a defined threshold.',\n",
       "    'matters': 'During production, factors like distribution shift or a change in <span>p(y|x)</span> may cause model performance to decrease significantly.'},\n",
       "   'd2_tweedie_score': {'value': 0.9810568570750805,\n",
       "    'severity': 'low',\n",
       "    'threshold': 0.6,\n",
       "    'summary': 'd2_tweedie_score has a value of 0.98 with low as Severity Index against the 0.6 as threshold ',\n",
       "    'description': 'This test checks the D2 Tweedie Score metric to see both if its performance on the evaluation set alone is satisfactory, as well as if performance in terms of D2 Tweedie Score has degraded from the reference to evaluation set. The key detail displays whether the given performance metric has degraded beyond a defined threshold.',\n",
       "    'matters': 'During production, factors like distribution shift or a change in <span>p(y|x)</span> may cause model performance to decrease significantly.'},\n",
       "   'explained_variance_score': {'value': 0.9811055483478907,\n",
       "    'severity': 'low',\n",
       "    'threshold': 0.6,\n",
       "    'summary': 'explained_variance_score has a value of 0.98 with low as Severity Index against the 0.6 as threshold ',\n",
       "    'description': 'This test checks the Explained Variance Score metric to see both if its performance on the evaluation set alone is satisfactory, as well as if performance in terms of Explained Variance Score has degraded from the reference to evaluation set. The key detail displays whether the given performance metric has degraded beyond a defined threshold.',\n",
       "    'matters': 'During production, factors like distribution shift or a change in <span>p(y|x)</span> may cause model performance to decrease significantly.'}}},\n",
       " 'subsets': None}"
      ]
     },
     "execution_count": 3,
     "metadata": {},
     "output_type": "execute_result"
    }
   ],
   "source": [
    "reference_result"
   ]
  },
  {
   "cell_type": "code",
   "execution_count": 4,
   "metadata": {},
   "outputs": [
    {
     "data": {
      "text/plain": [
       "{'complete': {'performance': {'mean_absolute_error': {'value': 2.7620014662676486,\n",
       "    'severity': 'low',\n",
       "    'threshold': 0.6,\n",
       "    'summary': 'mean_absolute_error has a value of 2.76 with low as Severity Index against the 0.6 as threshold ',\n",
       "    'description': 'This test checks the Mean Absolute Error (MAE) metric to see both if its performance on the evaluation set alone is satisfactory, as well as if performance in terms of Mean Absolute Error (MAE) has degraded from the reference to evaluation set. The key detail displays whether the given performance metric has degraded beyond a defined threshold.',\n",
       "    'matters': 'During production, factors like distribution shift or a change in <span>p(y|x)</span> may cause model performance to decrease significantly.'},\n",
       "   'mean_squared_error': {'value': 11.855219973918857,\n",
       "    'severity': 'low',\n",
       "    'threshold': 0.6,\n",
       "    'summary': 'mean_squared_error has a value of 11.86 with low as Severity Index against the 0.6 as threshold ',\n",
       "    'description': 'This test checks the Mean Squared Error (MSE) metric to see both if its performance on the evaluation set alone is satisfactory, as well as if performance in terms of Mean Squared Error (MSE) has degraded from the reference to evaluation set. The key detail displays whether the given performance metric has degraded beyond a defined threshold.',\n",
       "    'matters': 'During production, factors like distribution shift or a change in <span>p(y|x)</span> may cause model performance to decrease significantly.'},\n",
       "   'r2_score': {'value': 0.9721072780408271,\n",
       "    'severity': 'low',\n",
       "    'threshold': 0.6,\n",
       "    'summary': 'r2_score has a value of 0.97 with low as Severity Index against the 0.6 as threshold ',\n",
       "    'description': 'This test checks the R2 Score metric to see both if its performance on the evaluation set alone is satisfactory, as well as if performance in terms of R2 Score has degraded from the reference to evaluation set. The key detail displays whether the given performance metric has degraded beyond a defined threshold.',\n",
       "    'matters': 'During production, factors like distribution shift or a change in <span>p(y|x)</span> may cause model performance to decrease significantly.'},\n",
       "   'max_error': {'value': 9.906858883423418,\n",
       "    'severity': 'low',\n",
       "    'threshold': 0.6,\n",
       "    'summary': 'max_error has a value of 9.91 with low as Severity Index against the 0.6 as threshold ',\n",
       "    'description': 'This test checks the Max Error metric to see both if its performance on the evaluation set alone is satisfactory, as well as if performance in terms of Max Error has degraded from the reference to evaluation set. The key detail displays whether the given performance metric has degraded beyond a defined threshold.',\n",
       "    'matters': 'During production, factors like distribution shift or a change in <span>p(y|x)</span> may cause model performance to decrease significantly.'},\n",
       "   'median_absolute_error': {'value': 2.5039298504511507,\n",
       "    'severity': 'low',\n",
       "    'threshold': 0.6,\n",
       "    'summary': 'median_absolute_error has a value of 2.5 with low as Severity Index against the 0.6 as threshold ',\n",
       "    'description': 'This test checks the Median Absolute Error metric to see both if its performance on the evaluation set alone is satisfactory, as well as if performance in terms of Median Absolute Error has degraded from the reference to evaluation set. The key detail displays whether the given performance metric has degraded beyond a defined threshold.',\n",
       "    'matters': 'During production, factors like distribution shift or a change in <span>p(y|x)</span> may cause model performance to decrease significantly.'},\n",
       "   'd2_absolute_error_score': {'value': 0.8420942529670313,\n",
       "    'severity': 'pass',\n",
       "    'threshold': 0.6,\n",
       "    'summary': 'd2_absolute_error_score has a value of 0.84 with pass as Severity Index against the 0.6 as threshold ',\n",
       "    'description': 'This test checks the D2 Absolute Error Score metric to see both if its performance on the evaluation set alone is satisfactory, as well as if performance in terms of D2 Absolute Error Score has degraded from the reference to evaluation set. The key detail displays whether the given performance metric has degraded beyond a defined threshold.',\n",
       "    'matters': 'During production, factors like distribution shift or a change in <span>p(y|x)</span> may cause model performance to decrease significantly.'},\n",
       "   'd2_pinball_score': {'value': 0.8420942529670313,\n",
       "    'severity': 'pass',\n",
       "    'threshold': 0.6,\n",
       "    'summary': 'd2_pinball_score has a value of 0.84 with pass as Severity Index against the 0.6 as threshold ',\n",
       "    'description': 'This test checks the D2 Pinball Score metric to see both if its performance on the evaluation set alone is satisfactory, as well as if performance in terms of D2 Pinball Score has degraded from the reference to evaluation set. The key detail displays whether the given performance metric has degraded beyond a defined threshold.',\n",
       "    'matters': 'During production, factors like distribution shift or a change in <span>p(y|x)</span> may cause model performance to decrease significantly.'},\n",
       "   'd2_tweedie_score': {'value': 0.9721072780408271,\n",
       "    'severity': 'low',\n",
       "    'threshold': 0.6,\n",
       "    'summary': 'd2_tweedie_score has a value of 0.97 with low as Severity Index against the 0.6 as threshold ',\n",
       "    'description': 'This test checks the D2 Tweedie Score metric to see both if its performance on the evaluation set alone is satisfactory, as well as if performance in terms of D2 Tweedie Score has degraded from the reference to evaluation set. The key detail displays whether the given performance metric has degraded beyond a defined threshold.',\n",
       "    'matters': 'During production, factors like distribution shift or a change in <span>p(y|x)</span> may cause model performance to decrease significantly.'},\n",
       "   'explained_variance_score': {'value': 0.9735119298410585,\n",
       "    'severity': 'low',\n",
       "    'threshold': 0.6,\n",
       "    'summary': 'explained_variance_score has a value of 0.97 with low as Severity Index against the 0.6 as threshold ',\n",
       "    'description': 'This test checks the Explained Variance Score metric to see both if its performance on the evaluation set alone is satisfactory, as well as if performance in terms of Explained Variance Score has degraded from the reference to evaluation set. The key detail displays whether the given performance metric has degraded beyond a defined threshold.',\n",
       "    'matters': 'During production, factors like distribution shift or a change in <span>p(y|x)</span> may cause model performance to decrease significantly.'}}},\n",
       " 'subsets': None}"
      ]
     },
     "execution_count": 4,
     "metadata": {},
     "output_type": "execute_result"
    }
   ],
   "source": [
    "production_result"
   ]
  },
  {
   "cell_type": "code",
   "execution_count": 5,
   "metadata": {},
   "outputs": [
    {
     "data": {
      "text/plain": [
       "{'feature_drift': {'wasserstein_distance': {'value': 0.0005840101809522106},\n",
       "  'hellinger_distance': {'value': 0.03489095905756006}}}"
      ]
     },
     "execution_count": 5,
     "metadata": {},
     "output_type": "execute_result"
    }
   ],
   "source": [
    "drift_result"
   ]
  },
  {
   "cell_type": "code",
   "execution_count": 4,
   "metadata": {},
   "outputs": [],
   "source": [
    "import pureml\n",
    "data = pureml.dataset.fetch('reference_dataset_monitoring:main:v1')"
   ]
  },
  {
   "cell_type": "code",
   "execution_count": 5,
   "metadata": {},
   "outputs": [],
   "source": [
    "complete_data = data['dataset']"
   ]
  },
  {
   "cell_type": "code",
   "execution_count": 7,
   "metadata": {},
   "outputs": [
    {
     "data": {
      "text/plain": [
       "(1000, 4)"
      ]
     },
     "execution_count": 7,
     "metadata": {},
     "output_type": "execute_result"
    }
   ],
   "source": [
    "complete_data.shape"
   ]
  },
  {
   "cell_type": "code",
   "execution_count": null,
   "metadata": {},
   "outputs": [],
   "source": []
  }
 ],
 "metadata": {
  "kernelspec": {
   "display_name": "testing_drift",
   "language": "python",
   "name": "python3"
  },
  "language_info": {
   "codemirror_mode": {
    "name": "ipython",
    "version": 3
   },
   "file_extension": ".py",
   "mimetype": "text/x-python",
   "name": "python",
   "nbconvert_exporter": "python",
   "pygments_lexer": "ipython3",
   "version": "3.10.12"
  },
  "orig_nbformat": 4
 },
 "nbformat": 4,
 "nbformat_minor": 2
}
