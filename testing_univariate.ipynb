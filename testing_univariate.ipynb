{
 "cells": [
  {
   "cell_type": "code",
   "execution_count": 1,
   "metadata": {},
   "outputs": [
    {
     "data": {
      "image/png": "[encoded data removed]",
      "text/plain": [
       "<Figure size 1400x600 with 2 Axes>"
      ]
     },
     "metadata": {},
     "output_type": "display_data"
    }
   ],
   "source": [
    "import numpy as np\n",
    "import matplotlib.pyplot as plt\n",
    "import pandas as pd\n",
    "\n",
    "# Number of samples for each dataset\n",
    "N = 1000\n",
    "\n",
    "# 1. Datasets for Chi-squared test and Cramer's V\n",
    "# 1.1 No association\n",
    "cat1_no_assoc = np.random.choice(['A', 'B', 'C'], size=N)\n",
    "cat2_no_assoc = np.random.choice(['X', 'Y', 'Z'], size=N)\n",
    "\n",
    "# 1.2 Strong association (when cat1 is 'A', cat2 is most likely 'X', etc.)\n",
    "mapping = {'A': 'X', 'B': 'Y', 'C': 'Z'}\n",
    "cat1_strong_assoc = np.random.choice(['A', 'B', 'C'], size=N)\n",
    "cat2_strong_assoc = [mapping[val] if np.random.rand() < 0.8 else np.random.choice(['X', 'Y', 'Z']) for val in cat1_strong_assoc]\n",
    "\n",
    "# 2. Datasets for PSI\n",
    "# 2.1 Similar distributions\n",
    "scores_reference_similar = np.random.normal(600, 50, N)\n",
    "scores_production_similar = np.random.normal(605, 50, N)\n",
    "\n",
    "# 2.2 Different distributions\n",
    "scores_reference_diff = np.random.normal(600, 50, N)\n",
    "scores_production_diff = np.random.normal(650, 50, N)\n",
    "\n",
    "datasets = {\n",
    "    'Chi-squared & Cramer\\'s V': {\n",
    "        'No Association': (cat1_no_assoc, cat2_no_assoc),\n",
    "        'Strong Association': (cat1_strong_assoc, cat2_strong_assoc)\n",
    "    },\n",
    "    'PSI': {\n",
    "        'Similar Distributions': (scores_reference_similar, scores_production_similar),\n",
    "        'Different Distributions': (scores_reference_diff, scores_production_diff)\n",
    "    }\n",
    "}\n",
    "\n",
    "# Visualizing the first set of datasets (for categorical variables)\n",
    "fig, axes = plt.subplots(1, 2, figsize=(14, 6))\n",
    "pd.Series(cat1_no_assoc).value_counts().sort_index().plot(kind='bar', ax=axes[0], position=0, width=0.4, color='blue', label='Variable 1')\n",
    "pd.Series(cat2_no_assoc).value_counts().sort_index().plot(kind='bar', ax=axes[0], position=1, width=0.4, color='red', label='Variable 2')\n",
    "axes[0].set_title('No Association')\n",
    "axes[0].legend()\n",
    "\n",
    "pd.Series(cat1_strong_assoc).value_counts().sort_index().plot(kind='bar', ax=axes[1], position=0, width=0.4, color='blue', label='Variable 1')\n",
    "pd.Series(cat2_strong_assoc).value_counts().sort_index().plot(kind='bar', ax=axes[1], position=1, width=0.4, color='red', label='Variable 2')\n",
    "axes[1].set_title('Strong Association')\n",
    "axes[1].legend()\n",
    "\n",
    "plt.tight_layout()\n",
    "plt.show()\n"
   ]
  },
  {
   "cell_type": "code",
   "execution_count": 2,
   "metadata": {},
   "outputs": [],
   "source": [
    "import numpy as np\n",
    "import matplotlib.pyplot as plt\n",
    "\n",
    "# Seed for reproducibility\n",
    "np.random.seed(42)\n",
    "\n",
    "# Number of samples\n",
    "N = 1000\n",
    "\n",
    "# 1. Two identical normal distributions\n",
    "mean1, std1 = 0, 1\n",
    "data1_a = np.random.normal(mean1, std1, N)\n",
    "data1_b = np.random.normal(mean1, std1, N)\n",
    "\n",
    "# 2. Two slightly different normal distributions\n",
    "mean2_a, mean2_b, std2 = 0, 0.5, 1\n",
    "data2_a = np.random.normal(mean2_a, std2, N)\n",
    "data2_b = np.random.normal(mean2_b, std2, N)\n",
    "\n",
    "# 3. Two very different normal distributions\n",
    "mean3_a, mean3_b, std3 = 0, 5, 1\n",
    "data3_a = np.random.normal(mean3_a, std3, N)\n",
    "data3_b = np.random.normal(mean3_b, std3, N)\n",
    "\n",
    "# 4. A normal and a uniform distribution\n",
    "mean4, std4 = 0, 1\n",
    "data4_a = np.random.normal(mean4, std4, N)\n",
    "data4_b = np.random.uniform(-3, 3, N)  # Chose these bounds to make it interesting\n"
   ]
  },
  {
   "cell_type": "code",
   "execution_count": 3,
   "metadata": {},
   "outputs": [],
   "source": [
    "from pureml_evaluate.drift_evaluator.univariate import Univariate"
   ]
  },
  {
   "cell_type": "code",
   "execution_count": 4,
   "metadata": {},
   "outputs": [],
   "source": [
    "uu = Univariate()\n",
    "uu.reference = data1_a\n",
    "uu.production = data1_b\n",
    "uu.kwargs = {'drift_types' : 'feature_drift','dataset_types' : 'continuous'}\n"
   ]
  },
  {
   "cell_type": "code",
   "execution_count": 5,
   "metadata": {},
   "outputs": [
    {
     "data": {
      "text/plain": [
       "{'kolmogorov_smirnov': {'value': {'ks_stat': 0.045,\n",
       "   'p_value': 0.26347172719864703}},\n",
       " 'wasserstein_distance': {'value': 0.014660278706218702},\n",
       " 'hellinger_distance': {'value': 0.14371687035258263},\n",
       " 'l_infinity_distance': {'value': 4.28120393757531}}"
      ]
     },
     "execution_count": 5,
     "metadata": {},
     "output_type": "execute_result"
    }
   ],
   "source": [
    "uu.compute()"
   ]
  },
  {
   "cell_type": "code",
   "execution_count": 6,
   "metadata": {},
   "outputs": [
    {
     "data": {
      "text/plain": [
       "{'chi_squared_statistic': {'value': 3921.5866044203453},\n",
       " 'cramers_v': {'value': {0: 1.0000000000000009}},\n",
       " 'population_stability_index': {'value': 0.017051124738511034}}"
      ]
     },
     "execution_count": 6,
     "metadata": {},
     "output_type": "execute_result"
    }
   ],
   "source": [
    "uu = Univariate()\n",
    "uu.reference = scores_reference_similar\n",
    "uu.production = scores_reference_diff\n",
    "uu.kwargs = {'drift_types' : 'feature_drift','dataset_types' : 'discrete'}\n",
    "uu.compute()\n"
   ]
  },
  {
   "cell_type": "code",
   "execution_count": null,
   "metadata": {},
   "outputs": [],
   "source": []
  },
  {
   "cell_type": "code",
   "execution_count": 7,
   "metadata": {},
   "outputs": [],
   "source": [
    "from pureml_evaluate.drift_evaluator.evaluator import eval "
   ]
  },
  {
   "cell_type": "code",
   "execution_count": 14,
   "metadata": {},
   "outputs": [
    {
     "data": {
      "text/plain": [
       "{'feature_drift': {'kolmogorov_smirnov': {'value': {'ks_stat': 0.045,\n",
       "    'p_value': 0.26347172719864703}},\n",
       "  'wasserstein_distance': {'value': 0.014660278706218702},\n",
       "  'hellinger_distance': {'value': 0.14371687035258263},\n",
       "  'l_infinity_distance': {'value': 4.28120393757531}}}"
      ]
     },
     "execution_count": 14,
     "metadata": {},
     "output_type": "execute_result"
    }
   ],
   "source": [
    "result = eval(reference = data1_a,production = data1_b,\n",
    "              datasettype = 'continuous',drift_evaluator= 'feature_drift',variate_evaluator = 'univariate')\n",
    "result"
   ]
  },
  {
   "cell_type": "code",
   "execution_count": 9,
   "metadata": {},
   "outputs": [],
   "source": [
    "from pureml_evaluate.drift_evaluator.grade import Grader"
   ]
  },
  {
   "cell_type": "code",
   "execution_count": 10,
   "metadata": {},
   "outputs": [],
   "source": [
    "variate_type = 'univariate'\n",
    "kwargs = {'drift_types' : 'feature_drift','dataset_types' : 'continuous'}\n",
    "reference = data1_a\n",
    "production = data1_b"
   ]
  },
  {
   "cell_type": "code",
   "execution_count": 11,
   "metadata": {},
   "outputs": [
    {
     "data": {
      "text/plain": [
       "{'kolmogorov_smirnov': {'value': {'ks_stat': 0.045,\n",
       "   'p_value': 0.26347172719864703}},\n",
       " 'wasserstein_distance': {'value': 0.014660278706218702},\n",
       " 'hellinger_distance': {'value': 0.14371687035258263},\n",
       " 'l_infinity_distance': {'value': 4.28120393757531}}"
      ]
     },
     "execution_count": 11,
     "metadata": {},
     "output_type": "execute_result"
    }
   ],
   "source": [
    "gra = Grader(dataset_types='continuous', drift_types='feature_drift', variate_types='univariate')\n",
    "\n",
    "reference = data1_a\n",
    "production = data1_b\n",
    "gra.compute(reference=reference,production=production)"
   ]
  },
  {
   "cell_type": "code",
   "execution_count": 12,
   "metadata": {},
   "outputs": [
    {
     "data": {
      "text/plain": [
       "{'feature_drift': {'kolmogorov_smirnov': {'value': {'ks_stat': 0.045,\n",
       "    'p_value': 0.26347172719864703}},\n",
       "  'wasserstein_distance': {'value': 0.014660278706218702},\n",
       "  'hellinger_distance': {'value': 0.14371687035258263},\n",
       "  'l_infinity_distance': {'value': 4.28120393757531}}}"
      ]
     },
     "execution_count": 12,
     "metadata": {},
     "output_type": "execute_result"
    }
   ],
   "source": [
    "result"
   ]
  },
  {
   "cell_type": "code",
   "execution_count": 13,
   "metadata": {},
   "outputs": [
    {
     "data": {
      "text/plain": [
       "{'feature_drift': {'chi_squared_statistic': {'value': 3921.5866044203453},\n",
       "  'cramers_v': {'value': {0: 1.0000000000000009}},\n",
       "  'population_stability_index': {'value': 0.017051124738511034}}}"
      ]
     },
     "execution_count": 13,
     "metadata": {},
     "output_type": "execute_result"
    }
   ],
   "source": [
    "result = eval(reference = scores_reference_similar,\n",
    "              production = scores_reference_diff,datasettype = 'discrete',\n",
    "              drift_evaluator= 'feature_drift',\n",
    "              variate_evaluator = 'univariate')\n",
    "result"
   ]
  },
  {
   "cell_type": "code",
   "execution_count": null,
   "metadata": {},
   "outputs": [],
   "source": []
  }
 ],
 "metadata": {
  "kernelspec": {
   "display_name": "testing_drift",
   "language": "python",
   "name": "python3"
  },
  "language_info": {
   "codemirror_mode": {
    "name": "ipython",
    "version": 3
   },
   "file_extension": ".py",
   "mimetype": "text/x-python",
   "name": "python",
   "nbconvert_exporter": "python",
   "pygments_lexer": "ipython3",
   "version": "3.10.12"
  },
  "orig_nbformat": 4
 },
 "nbformat": 4,
 "nbformat_minor": 2
}
