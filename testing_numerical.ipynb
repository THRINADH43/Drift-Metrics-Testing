{
 "cells": [
  {
   "cell_type": "code",
   "execution_count": 20,
   "metadata": {},
   "outputs": [],
   "source": [
    "from pureml_evaluate.drift_metrics.tabular.hellinger_distance.hellinger_distance import HellingerDistance\n",
    "from pureml_evaluate.drift_metrics.tabular.kolmogorov_smirnov.kolmogorov_smirnov_statistic import KolmogorovSmirnov\n",
    "from pureml_evaluate.drift_metrics.tabular.jensen_shannon_distance.jensen_shannon_distance import JensenShannonDistance\n",
    "from pureml_evaluate.drift_metrics.tabular.l_infinity_distance.l_infinity_distance import LInfinityDistance\n",
    "from pureml_evaluate.drift_metrics.tabular.wasserstein_distance.wasserstein_distance import WassersteinDistance"
   ]
  },
  {
   "cell_type": "code",
   "execution_count": 21,
   "metadata": {},
   "outputs": [],
   "source": [
    "import numpy as np\n",
    "import matplotlib.pyplot as plt\n",
    "\n",
    "# Seed for reproducibility\n",
    "np.random.seed(42)\n",
    "\n",
    "# Number of samples\n",
    "N = 1000\n",
    "\n",
    "# 1. Two identical normal distributions\n",
    "mean1, std1 = 0, 1\n",
    "data1_a = np.random.normal(mean1, std1, N)\n",
    "data1_b = np.random.normal(mean1, std1, N)\n",
    "\n",
    "# 2. Two slightly different normal distributions\n",
    "mean2_a, mean2_b, std2 = 0, 0.5, 1\n",
    "data2_a = np.random.normal(mean2_a, std2, N)\n",
    "data2_b = np.random.normal(mean2_b, std2, N)\n",
    "\n",
    "# 3. Two very different normal distributions\n",
    "mean3_a, mean3_b, std3 = 0, 5, 1\n",
    "data3_a = np.random.normal(mean3_a, std3, N)\n",
    "data3_b = np.random.normal(mean3_b, std3, N)\n",
    "\n",
    "# 4. A normal and a uniform distribution\n",
    "mean4, std4 = 0, 1\n",
    "data4_a = np.random.normal(mean4, std4, N)\n",
    "data4_b = np.random.uniform(-3, 3, N)  # Chose these bounds to make it interesting\n",
    "\n"
   ]
  },
  {
   "cell_type": "code",
   "execution_count": 22,
   "metadata": {},
   "outputs": [
    {
     "data": {
      "text/plain": [
       "{'kolmogorov_smirnov': {'value': {'ks_stat': 0.045,\n",
       "   'p_value': 0.26347172719864703}}}"
      ]
     },
     "execution_count": 22,
     "metadata": {},
     "output_type": "execute_result"
    }
   ],
   "source": [
    "ks = KolmogorovSmirnov()\n",
    "ks.compute(data1_a, data1_b)"
   ]
  },
  {
   "cell_type": "code",
   "execution_count": 23,
   "metadata": {},
   "outputs": [
    {
     "data": {
      "text/plain": [
       "{'kolmogorov_smirnov': {'value': {'ks_stat': 0.205,\n",
       "   'p_value': 8.493582764331036e-19}}}"
      ]
     },
     "execution_count": 23,
     "metadata": {},
     "output_type": "execute_result"
    }
   ],
   "source": [
    "ks.compute(data2_a, data2_b)"
   ]
  },
  {
   "cell_type": "code",
   "execution_count": 24,
   "metadata": {},
   "outputs": [
    {
     "data": {
      "text/plain": [
       "{'kolmogorov_smirnov': {'value': {'ks_stat': 0.992, 'p_value': 0.0}}}"
      ]
     },
     "execution_count": 24,
     "metadata": {},
     "output_type": "execute_result"
    }
   ],
   "source": [
    "ks.compute(data3_a, data3_b)"
   ]
  },
  {
   "cell_type": "code",
   "execution_count": 25,
   "metadata": {},
   "outputs": [
    {
     "data": {
      "text/plain": [
       "{'kolmogorov_smirnov': {'value': {'ks_stat': 0.183,\n",
       "   'p_value': 4.808958234324042e-15}}}"
      ]
     },
     "execution_count": 25,
     "metadata": {},
     "output_type": "execute_result"
    }
   ],
   "source": [
    "ks.compute(data4_a, data4_b)"
   ]
  },
  {
   "cell_type": "code",
   "execution_count": 26,
   "metadata": {},
   "outputs": [
    {
     "data": {
      "text/plain": [
       "{'wasserstein_distance': {'value': 0.014660278706218702}}"
      ]
     },
     "execution_count": 26,
     "metadata": {},
     "output_type": "execute_result"
    }
   ],
   "source": [
    "wd = WassersteinDistance()\n",
    "wd.compute(data1_a, data1_b)"
   ]
  },
  {
   "cell_type": "code",
   "execution_count": 27,
   "metadata": {},
   "outputs": [
    {
     "data": {
      "text/plain": [
       "{'wasserstein_distance': {'value': 0.01698880644136155}}"
      ]
     },
     "execution_count": 27,
     "metadata": {},
     "output_type": "execute_result"
    }
   ],
   "source": [
    "wd = WassersteinDistance()\n",
    "wd.compute(data2_a, data2_b)"
   ]
  },
  {
   "cell_type": "code",
   "execution_count": 28,
   "metadata": {},
   "outputs": [
    {
     "data": {
      "text/plain": [
       "{'wasserstein_distance': {'value': 0.007627492259999467}}"
      ]
     },
     "execution_count": 28,
     "metadata": {},
     "output_type": "execute_result"
    }
   ],
   "source": [
    "wd = WassersteinDistance()\n",
    "wd.compute(data3_a, data3_b)"
   ]
  },
  {
   "cell_type": "code",
   "execution_count": 29,
   "metadata": {},
   "outputs": [
    {
     "data": {
      "text/plain": [
       "{'wasserstein_distance': {'value': 0.08975700659407804}}"
      ]
     },
     "execution_count": 29,
     "metadata": {},
     "output_type": "execute_result"
    }
   ],
   "source": [
    "wd = WassersteinDistance()\n",
    "wd.compute(data4_a, data4_b)"
   ]
  },
  {
   "cell_type": "code",
   "execution_count": 30,
   "metadata": {},
   "outputs": [
    {
     "data": {
      "text/plain": [
       "{'hellinger_distance': {'value': 0.14371687035258263}}"
      ]
     },
     "execution_count": 30,
     "metadata": {},
     "output_type": "execute_result"
    }
   ],
   "source": [
    "hd = HellingerDistance()\n",
    "hd.compute(data1_a, data1_b)"
   ]
  },
  {
   "cell_type": "code",
   "execution_count": 31,
   "metadata": {},
   "outputs": [
    {
     "data": {
      "text/plain": [
       "{'hellinger_distance': {'value': 0.3421912257595368}}"
      ]
     },
     "execution_count": 31,
     "metadata": {},
     "output_type": "execute_result"
    }
   ],
   "source": [
    "hd  = HellingerDistance()\n",
    "hd.compute(data2_a, data2_b)\n"
   ]
  },
  {
   "cell_type": "code",
   "execution_count": 32,
   "metadata": {},
   "outputs": [
    {
     "data": {
      "text/plain": [
       "{'hellinger_distance': {'value': 1.442056132754212}}"
      ]
     },
     "execution_count": 32,
     "metadata": {},
     "output_type": "execute_result"
    }
   ],
   "source": [
    "hd = HellingerDistance()\n",
    "hd.compute(data3_a, data3_b)"
   ]
  },
  {
   "cell_type": "code",
   "execution_count": 33,
   "metadata": {},
   "outputs": [
    {
     "data": {
      "text/plain": [
       "{'hellinger_distance': {'value': 0.6128921016490295}}"
      ]
     },
     "execution_count": 33,
     "metadata": {},
     "output_type": "execute_result"
    }
   ],
   "source": [
    "hd  = HellingerDistance()\n",
    "hd.compute(data4_a, data4_b)"
   ]
  },
  {
   "cell_type": "code",
   "execution_count": 34,
   "metadata": {},
   "outputs": [
    {
     "data": {
      "text/plain": [
       "{'l_infinity_distance': {'value': 4.28120393757531}}"
      ]
     },
     "execution_count": 34,
     "metadata": {},
     "output_type": "execute_result"
    }
   ],
   "source": [
    "li = LInfinityDistance()\n",
    "li.compute(data1_a, data1_b)"
   ]
  },
  {
   "cell_type": "code",
   "execution_count": 35,
   "metadata": {},
   "outputs": [
    {
     "data": {
      "text/plain": [
       "{'l_infinity_distance': {'value': 4.978529822933488}}"
      ]
     },
     "execution_count": 35,
     "metadata": {},
     "output_type": "execute_result"
    }
   ],
   "source": [
    "li = LInfinityDistance()\n",
    "li.compute(data2_a, data2_b)"
   ]
  },
  {
   "cell_type": "code",
   "execution_count": 36,
   "metadata": {},
   "outputs": [
    {
     "data": {
      "text/plain": [
       "{'l_infinity_distance': {'value': 10.10548141220476}}"
      ]
     },
     "execution_count": 36,
     "metadata": {},
     "output_type": "execute_result"
    }
   ],
   "source": [
    "li = LInfinityDistance()\n",
    "li.compute(data3_a, data3_b)"
   ]
  },
  {
   "cell_type": "code",
   "execution_count": 37,
   "metadata": {},
   "outputs": [
    {
     "data": {
      "text/plain": [
       "{'l_infinity_distance': {'value': 5.610066767066234}}"
      ]
     },
     "execution_count": 37,
     "metadata": {},
     "output_type": "execute_result"
    }
   ],
   "source": [
    "li = LInfinityDistance()\n",
    "li.compute(data4_a, data4_b)"
   ]
  },
  {
   "cell_type": "code",
   "execution_count": 38,
   "metadata": {},
   "outputs": [
    {
     "data": {
      "text/plain": [
       "{'jensen_shannon_distance': {'value': 0.005625206345051155}}"
      ]
     },
     "execution_count": 38,
     "metadata": {},
     "output_type": "execute_result"
    }
   ],
   "source": [
    "jd = JensenShannonDistance()\n",
    "jd.compute(data1_a, data1_b)"
   ]
  },
  {
   "cell_type": "code",
   "execution_count": 39,
   "metadata": {},
   "outputs": [
    {
     "data": {
      "text/plain": [
       "{'jensen_shannon_distance': {'value': 0.03200074128432203}}"
      ]
     },
     "execution_count": 39,
     "metadata": {},
     "output_type": "execute_result"
    }
   ],
   "source": [
    "jd = JensenShannonDistance()\n",
    "jd.compute(data2_a, data2_b)"
   ]
  },
  {
   "cell_type": "code",
   "execution_count": 40,
   "metadata": {},
   "outputs": [
    {
     "data": {
      "text/plain": [
       "{'jensen_shannon_distance': {'value': 0.6803589258772007}}"
      ]
     },
     "execution_count": 40,
     "metadata": {},
     "output_type": "execute_result"
    }
   ],
   "source": [
    "jd = JensenShannonDistance()\n",
    "jd.compute(data3_a, data3_b)"
   ]
  },
  {
   "cell_type": "code",
   "execution_count": 41,
   "metadata": {},
   "outputs": [
    {
     "data": {
      "text/plain": [
       "{'jensen_shannon_distance': {'value': 0.09180071392935041}}"
      ]
     },
     "execution_count": 41,
     "metadata": {},
     "output_type": "execute_result"
    }
   ],
   "source": [
    "jd = JensenShannonDistance()\n",
    "jd.compute(data4_a,data4_b)"
   ]
  },
  {
   "cell_type": "code",
   "execution_count": null,
   "metadata": {},
   "outputs": [],
   "source": []
  }
 ],
 "metadata": {
  "kernelspec": {
   "display_name": "testing_drift",
   "language": "python",
   "name": "python3"
  },
  "language_info": {
   "codemirror_mode": {
    "name": "ipython",
    "version": 3
   },
   "file_extension": ".py",
   "mimetype": "text/x-python",
   "name": "python",
   "nbconvert_exporter": "python",
   "pygments_lexer": "ipython3",
   "version": "3.10.12"
  },
  "orig_nbformat": 4
 },
 "nbformat": 4,
 "nbformat_minor": 2
}
