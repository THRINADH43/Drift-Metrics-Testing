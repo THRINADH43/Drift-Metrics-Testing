{
 "cells": [
  {
   "cell_type": "code",
   "execution_count": 1,
   "metadata": {},
   "outputs": [],
   "source": [
    "from pureml_evaluate.drift_metrics.tabular.chi_squared_statistic.chi_squared_statistic import ChiSquaredStatistic\n",
    "from pureml_evaluate.drift_metrics.tabular.cramers_v.cramers_v import CramersV\n",
    "from pureml_evaluate.drift_metrics.tabular.population_stability_index.population_stability_index import PopulationStabilityIndex"
   ]
  },
  {
   "cell_type": "code",
   "execution_count": 2,
   "metadata": {},
   "outputs": [
    {
     "data": {
      "image/png": "[encoded data removed]",
      "text/plain": [
       "<Figure size 1400x600 with 2 Axes>"
      ]
     },
     "metadata": {},
     "output_type": "display_data"
    }
   ],
   "source": [
    "import numpy as np\n",
    "import matplotlib.pyplot as plt\n",
    "import pandas as pd\n",
    "\n",
    "# Number of samples for each dataset\n",
    "N = 1000\n",
    "\n",
    "# 1. Datasets for Chi-squared test and Cramer's V\n",
    "# 1.1 No association\n",
    "cat1_no_assoc = np.random.choice(['A', 'B', 'C'], size=N)\n",
    "cat2_no_assoc = np.random.choice(['X', 'Y', 'Z'], size=N)\n",
    "\n",
    "# 1.2 Strong association (when cat1 is 'A', cat2 is most likely 'X', etc.)\n",
    "mapping = {'A': 'X', 'B': 'Y', 'C': 'Z'}\n",
    "cat1_strong_assoc = np.random.choice(['A', 'B', 'C'], size=N)\n",
    "cat2_strong_assoc = [mapping[val] if np.random.rand() < 0.8 else np.random.choice(['X', 'Y', 'Z']) for val in cat1_strong_assoc]\n",
    "\n",
    "# 2. Datasets for PSI\n",
    "# 2.1 Similar distributions\n",
    "scores_reference_similar = np.random.normal(600, 50, N)\n",
    "scores_production_similar = np.random.normal(605, 50, N)\n",
    "\n",
    "# 2.2 Different distributions\n",
    "scores_reference_diff = np.random.normal(600, 50, N)\n",
    "scores_production_diff = np.random.normal(650, 50, N)\n",
    "\n",
    "datasets = {\n",
    "    'Chi-squared & Cramer\\'s V': {\n",
    "        'No Association': (cat1_no_assoc, cat2_no_assoc),\n",
    "        'Strong Association': (cat1_strong_assoc, cat2_strong_assoc)\n",
    "    },\n",
    "    'PSI': {\n",
    "        'Similar Distributions': (scores_reference_similar, scores_production_similar),\n",
    "        'Different Distributions': (scores_reference_diff, scores_production_diff)\n",
    "    }\n",
    "}\n",
    "\n",
    "# Visualizing the first set of datasets (for categorical variables)\n",
    "fig, axes = plt.subplots(1, 2, figsize=(14, 6))\n",
    "pd.Series(cat1_no_assoc).value_counts().sort_index().plot(kind='bar', ax=axes[0], position=0, width=0.4, color='blue', label='Variable 1')\n",
    "pd.Series(cat2_no_assoc).value_counts().sort_index().plot(kind='bar', ax=axes[0], position=1, width=0.4, color='red', label='Variable 2')\n",
    "axes[0].set_title('No Association')\n",
    "axes[0].legend()\n",
    "\n",
    "pd.Series(cat1_strong_assoc).value_counts().sort_index().plot(kind='bar', ax=axes[1], position=0, width=0.4, color='blue', label='Variable 1')\n",
    "pd.Series(cat2_strong_assoc).value_counts().sort_index().plot(kind='bar', ax=axes[1], position=1, width=0.4, color='red', label='Variable 2')\n",
    "axes[1].set_title('Strong Association')\n",
    "axes[1].legend()\n",
    "\n",
    "plt.tight_layout()\n",
    "plt.show()\n"
   ]
  },
  {
   "cell_type": "code",
   "execution_count": 3,
   "metadata": {},
   "outputs": [
    {
     "data": {
      "text/plain": [
       "{'chi_squared_statistic': {'value': 4015.2017528215024}}"
      ]
     },
     "execution_count": 3,
     "metadata": {},
     "output_type": "execute_result"
    }
   ],
   "source": [
    "cs = ChiSquaredStatistic()\n",
    "cs.compute(scores_reference_similar,scores_production_similar)"
   ]
  },
  {
   "cell_type": "code",
   "execution_count": 4,
   "metadata": {},
   "outputs": [
    {
     "data": {
      "text/plain": [
       "{'chi_squared_statistic': {'value': 4130.195001309077}}"
      ]
     },
     "execution_count": 4,
     "metadata": {},
     "output_type": "execute_result"
    }
   ],
   "source": [
    "cs = ChiSquaredStatistic()\n",
    "cs.compute(scores_reference_diff,scores_production_diff)"
   ]
  },
  {
   "cell_type": "code",
   "execution_count": 5,
   "metadata": {},
   "outputs": [
    {
     "data": {
      "text/plain": [
       "{'cramers_v': {0: 1.0000000000000009}}"
      ]
     },
     "execution_count": 5,
     "metadata": {},
     "output_type": "execute_result"
    }
   ],
   "source": [
    "cv = CramersV()\n",
    "cv.compute(scores_reference_similar,scores_production_similar)"
   ]
  },
  {
   "cell_type": "code",
   "execution_count": 6,
   "metadata": {},
   "outputs": [
    {
     "data": {
      "text/plain": [
       "{'cramers_v': {0: 1.0000000000000009}}"
      ]
     },
     "execution_count": 6,
     "metadata": {},
     "output_type": "execute_result"
    }
   ],
   "source": [
    "cv = CramersV()\n",
    "cv.compute(scores_reference_diff,scores_production_diff)"
   ]
  },
  {
   "cell_type": "code",
   "execution_count": 7,
   "metadata": {},
   "outputs": [
    {
     "data": {
      "text/plain": [
       "{'population_stability_index': {'value': 0.03105226714339808}}"
      ]
     },
     "execution_count": 7,
     "metadata": {},
     "output_type": "execute_result"
    }
   ],
   "source": [
    "ps = PopulationStabilityIndex()\n",
    "ps.compute(scores_reference_similar,scores_production_similar)"
   ]
  },
  {
   "cell_type": "code",
   "execution_count": 8,
   "metadata": {},
   "outputs": [
    {
     "data": {
      "text/plain": [
       "{'population_stability_index': {'value': 1.3541576843575551}}"
      ]
     },
     "execution_count": 8,
     "metadata": {},
     "output_type": "execute_result"
    }
   ],
   "source": [
    "ps = PopulationStabilityIndex()\n",
    "ps.compute(scores_reference_diff,scores_production_diff)"
   ]
  }
 ],
 "metadata": {
  "kernelspec": {
   "display_name": "testing_drift",
   "language": "python",
   "name": "python3"
  },
  "language_info": {
   "codemirror_mode": {
    "name": "ipython",
    "version": 3
   },
   "file_extension": ".py",
   "mimetype": "text/x-python",
   "name": "python",
   "nbconvert_exporter": "python",
   "pygments_lexer": "ipython3",
   "version": "3.10.12"
  },
  "orig_nbformat": 4
 },
 "nbformat": 4,
 "nbformat_minor": 2
}
